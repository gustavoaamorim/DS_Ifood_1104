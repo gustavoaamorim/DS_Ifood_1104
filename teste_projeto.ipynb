{
 "cells": [
  {
   "cell_type": "code",
   "execution_count": 61,
   "metadata": {},
   "outputs": [
    {
     "name": "stdout",
     "output_type": "stream",
     "text": [
      "(6.0, 8.0, 10.0, 12.0)\n"
     ]
    }
   ],
   "source": [
    "# Definindo as tuplas\n",
    "tupla1 = (1.0, 2.0, 3.0, 4.0)\n",
    "tupla2 = (5.0, 6.0, 7.0, 8.0)\n",
    "\n",
    "# Usando a função zip para somar os elementos correspondentes\n",
    "resultado = tuple(a+b for a, b in zip(tupla1, tupla2))\n",
    "\n",
    "print(resultado)\n"
   ]
  },
  {
   "cell_type": "code",
   "execution_count": 112,
   "metadata": {},
   "outputs": [
    {
     "data": {
      "text/plain": [
       "' for i in range(len(data)):  \\n    calcular_distancia(data[i], no_class[i]) '"
      ]
     },
     "execution_count": 112,
     "metadata": {},
     "output_type": "execute_result"
    }
   ],
   "source": [
    "data = [[66707599984, 'Promotor', (51.00, 35.00, 14.00, 20.0)],\n",
    " [55695397315, 'Promotor', (49.00, 30.00, 14.00, 20.0)],\n",
    " [63743886918, 'Promotor', (47.00, 32.00, 13.00, 20.0)],\n",
    " [55941368774, 'Promotor', (46.00, 31.00, 15.00, 20.0)],\n",
    " [75486280874, 'Promotor', (50.00, 36.00, 14.00, 20.0)],\n",
    "  [53164949799, 'Promotor', (54.00, 39.00, 17.00, 40.0)],\n",
    " [39898704131, 'Promotor', (46.00, 34.00, 14.00, 30.0)],\n",
    " [53740901207, 'Promotor', (50.00, 34.00, 15.00, 20.0)],\n",
    " [51735950236, 'Promotor', (44.00, 29.00, 14.00, 20.0)],\n",
    " [47305108951, 'Promotor', (49.00, 31.00, 15.00, 10.0)]]\n",
    "\n",
    "no_class = [[45926320819, '', (58.00, 40.00, 12.00, 20.0)],\n",
    " [52559670741, '', (57.00, 44.00, 15.00, 40.0)],\n",
    " [59016004832, '', (54.00, 39.00, 13.00, 40.0)],\n",
    " [66175672425, '', (51.00, 35.00, 14.00, 30.0)],\n",
    " [53330429526, '', (57.00, 38.00, 17.00, 30.0)],\n",
    " [43765563403, '', (51.00, 38.00, 15.00, 30.0)],\n",
    " [68020822591, '', (54.00, 34.00, 17.00, 20.0)],\n",
    " [53939481689, '', (51.00, 37.00, 15.00, 40.0)],\n",
    " [47014057561, '', (46.00, 36.00, 10.00, 20.0)],\n",
    " [57183542047, '', (51.00, 33.00, 17.00, 50.0)]]\n",
    "\n",
    "\n",
    "# imprime a distância \n",
    "\"\"\" for i in range(len(data)):\n",
    "    resultado = sum(tuple((a - b)**2 for a, b in zip(data[i][2], no_class[i][2])))\n",
    "    print(resultado**0.5) \"\"\"\n",
    "    \n",
    "\n",
    "# função que imprime cada valor da tupla\n",
    "def calcular_distancia(item1, item2):\n",
    "    distancias = []\n",
    "    for i in range(len(item1)):\n",
    "        resultado = (sum(tuple((a - b)**2 for a, b in zip(item1[i][2], item2[i][2]))))**0.5\n",
    "        distancias.append(resultado)\n",
    "    #print(distancias)\n",
    "    return distancias\n",
    "\n",
    "calcular_distancia(data, no_class)\n",
    "\n",
    "\n",
    "\n",
    "# percorre toda a lista de data\n",
    "\"\"\" for i in range(len(data)):  \n",
    "    calcular_distancia(data[i], no_class[i]) \"\"\""
   ]
  },
  {
   "cell_type": "code",
   "execution_count": 114,
   "metadata": {},
   "outputs": [
    {
     "name": "stdout",
     "output_type": "stream",
     "text": [
      "[8.831760866327848, 25.709920264364882, 22.315913604421397, 11.916375287812984, 12.727922061357855, 10.677078252031311, 13.152946437965905, 20.248456731316587, 8.306623862918075, 40.149719799769464]\n",
      "[8.306623862918075, 8.831760866327848, 10.677078252031311, 11.916375287812984, 12.727922061357855, 13.152946437965905, 20.248456731316587, 22.315913604421397, 25.709920264364882, 40.149719799769464]\n",
      "[8.306623862918075, 8.831760866327848, 10.677078252031311, 11.916375287812984, 12.727922061357855]\n"
     ]
    }
   ],
   "source": [
    "# função que classifica e seleciona os k vizinhos com menores distâncias.\n",
    "def classificar_novo_registro(dados_classificados, novos_dados, k):\n",
    "        # atribuindo à variavel distâncias o retorno da função calcular distâncias que cria uma lista com todas as distâncias calculadas\n",
    "        distancias = calcular_distancia(novos_dados, dados_classificados)\n",
    "        \n",
    "        print(distancias) \n",
    "        distancias.sort() # ordenando as distâncias da menor para a maior\n",
    "        print(distancias)\n",
    "        vizinhos = distancias[:k] # atribuindo à variavel vizinhos as distâncias do indice 0 até k -1\n",
    "        print(vizinhos)\n",
    "\n",
    "classificar_novo_registro(data, no_class, 5)"
   ]
  },
  {
   "cell_type": "code",
   "execution_count": 70,
   "metadata": {},
   "outputs": [
    {
     "name": "stdout",
     "output_type": "stream",
     "text": [
      "5.477225575051661\n"
     ]
    }
   ],
   "source": [
    "# calculando a distancia entre os pontos de duas tuplas\n",
    "\n",
    "tupla1 = (2.0, 4.0, 6.0, 8.0)\n",
    "tupla2 = (1.0, 2.0, 3.0, 4.0)\n",
    "\n",
    "soma = 0\n",
    "for i in range(len(tupla1)):\n",
    "    soma += (tupla1[i] - tupla2[i])**2\n",
    "print(soma**0.5)"
   ]
  }
 ],
 "metadata": {
  "kernelspec": {
   "display_name": "Python 3",
   "language": "python",
   "name": "python3"
  },
  "language_info": {
   "codemirror_mode": {
    "name": "ipython",
    "version": 3
   },
   "file_extension": ".py",
   "mimetype": "text/x-python",
   "name": "python",
   "nbconvert_exporter": "python",
   "pygments_lexer": "ipython3",
   "version": "3.11.4"
  }
 },
 "nbformat": 4,
 "nbformat_minor": 2
}
