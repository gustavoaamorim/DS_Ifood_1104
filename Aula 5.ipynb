{
 "cells": [
  {
   "cell_type": "markdown",
   "id": "72d11203",
   "metadata": {},
   "source": [
    "# Funções"
   ]
  },
  {
   "cell_type": "code",
   "execution_count": 2,
   "id": "4b2fc7b7",
   "metadata": {},
   "outputs": [
    {
     "name": "stdout",
     "output_type": "stream",
     "text": [
      "1\n",
      "4\n",
      "-8\n",
      "12\n",
      "3\n",
      "-5\n",
      "2\n",
      "-14\n",
      "6\n",
      "1\n",
      "4\n",
      "-8\n",
      "12\n",
      "3\n",
      "-5\n",
      "2\n",
      "-14\n",
      "6\n"
     ]
    }
   ],
   "source": [
    "# Faça um programa que olhe todos os itens de uma lista e diga quantos deles são pares.\n",
    "\n",
    "lista = [1, 4, -8, 12, 3, -5, 2, -14, 6]\n",
    "\n",
    "# percorrer a lista\n",
    "for elemento in lista: \n",
    "    print(elemento)\n",
    "\n",
    "# outra forma de percorrer a lista    \n",
    "for i in range(len(lista)):\n",
    "    print(lista[i])"
   ]
  },
  {
   "cell_type": "code",
   "execution_count": null,
   "id": "63fe30d6",
   "metadata": {},
   "outputs": [],
   "source": [
    "pares = 0 # quantidade de valores pares\n",
    "pares = [] # quais os valores que são pares"
   ]
  },
  {
   "cell_type": "code",
   "execution_count": 9,
   "id": "ef8dee65",
   "metadata": {},
   "outputs": [
    {
     "name": "stdout",
     "output_type": "stream",
     "text": [
      "Na lista existem 6 números pares\n",
      "Na lista1 existem 5 números pares\n",
      "Na lista2 existem 10 números pares\n"
     ]
    }
   ],
   "source": [
    "# QUANTOS SÃO PARES\n",
    "\n",
    "lista = [1, 4, -8, 12, 3, -5, 2, -14, 6]\n",
    "\n",
    "pares = 0\n",
    "\n",
    "for elemento in lista:\n",
    "    if elemento % 2 ==0: # é par\n",
    "        pares += 1 # é igual a pares = pares + 1\n",
    "        \n",
    "print(f\"Na lista existem {pares} números pares\")\n",
    "    \n",
    "    \n",
    "# quero saber quantos números pares tem na lista\n",
    "lista1 = [1, 3, 6, 5, -8, 9, 4, -6, 5, 2]\n",
    "\n",
    "pares = 0\n",
    "\n",
    "for elemento in lista1:\n",
    "    if elemento % 2 ==0: # é par\n",
    "        pares += 1 # é igual a pares = pares + 1\n",
    "    \n",
    "    \n",
    "print(f\"Na lista1 existem {pares} números pares\")    \n",
    "    \n",
    "\n",
    "# quantidade de números pares\n",
    "lista2 = [1, 3, 6, 7, 9, -4, 12, 15, -17, 19, 20, -2, 2, 40, 38, 67, 54, 43, 2]\n",
    "\n",
    "pares = 0\n",
    "\n",
    "for elemento in lista2:\n",
    "    if elemento % 2 ==0: # é par\n",
    "        pares += 1 # é igual a pares = pares + 1\n",
    "    \n",
    "    \n",
    "print(f\"Na lista2 existem {pares} números pares\")    "
   ]
  },
  {
   "cell_type": "markdown",
   "id": "dcbeee49",
   "metadata": {},
   "source": [
    "## Reaproveitar o código: funções"
   ]
  },
  {
   "cell_type": "markdown",
   "id": "08a86f1d",
   "metadata": {},
   "source": [
    "```python\n",
    "def nome_funcao(): # criando a função\n",
    "    pass\n",
    "\n",
    "nome_funcao() # chamar a função\n",
    "```"
   ]
  },
  {
   "cell_type": "code",
   "execution_count": 14,
   "id": "31da5e1d",
   "metadata": {},
   "outputs": [
    {
     "name": "stdout",
     "output_type": "stream",
     "text": [
      "Na lista existem 6 números pares\n",
      "Na lista existem 5 números pares\n",
      "Na lista existem 10 números pares\n",
      "Na lista existem 4 números pares\n"
     ]
    }
   ],
   "source": [
    "# Faça um programa que olhe todos os itens de uma lista e diga quantos deles são pares.\n",
    "\n",
    "\n",
    "lista = [1, 4, -8, 12, 3, -5, 2, -14, 6]\n",
    "lista1 = [1, 3, 6, 5, -8, 9, 4, -6, 5, 2]\n",
    "lista2 = [1, 3, 6, 7, 9, -4, 12, 15, -17, 19, 20, -2, 2, 40, 38, 67, 54, 43, 2]\n",
    "\n",
    "# criando a função\n",
    "def achar_pares(variavel_lista): # função = encapsular\n",
    "    pares = 0\n",
    "    for elemento in variavel_lista:\n",
    "        if elemento % 2 == 0: # é par\n",
    "            pares += 1 # é igual a pares = pares + 1\n",
    "\n",
    "    print(f\"Na lista existem {pares} números pares\")    \n",
    "    \n",
    "# chamar a função\n",
    "achar_pares(lista)\n",
    "achar_pares(lista1)\n",
    "achar_pares(lista2)\n",
    "achar_pares([1,2,3,4,5,6,7,8])"
   ]
  },
  {
   "cell_type": "code",
   "execution_count": 15,
   "id": "16f9946f",
   "metadata": {},
   "outputs": [],
   "source": [
    "lista_geral = [lista, lista1, lista2, [1,2,3,4,5,6,7,8]]"
   ]
  },
  {
   "cell_type": "code",
   "execution_count": 16,
   "id": "48500b91",
   "metadata": {},
   "outputs": [
    {
     "name": "stdout",
     "output_type": "stream",
     "text": [
      "Na lista existem 6 números pares\n",
      "Na lista existem 5 números pares\n",
      "Na lista existem 10 números pares\n",
      "Na lista existem 4 números pares\n"
     ]
    }
   ],
   "source": [
    "for item in lista_geral:\n",
    "    achar_pares(item)"
   ]
  },
  {
   "cell_type": "code",
   "execution_count": 17,
   "id": "177b2314",
   "metadata": {},
   "outputs": [
    {
     "ename": "TypeError",
     "evalue": "'int' object is not iterable",
     "output_type": "error",
     "traceback": [
      "\u001b[1;31m---------------------------------------------------------------------------\u001b[0m",
      "\u001b[1;31mTypeError\u001b[0m                                 Traceback (most recent call last)",
      "Cell \u001b[1;32mIn[17], line 1\u001b[0m\n\u001b[1;32m----> 1\u001b[0m \u001b[43machar_pares\u001b[49m\u001b[43m(\u001b[49m\u001b[38;5;241;43m2\u001b[39;49m\u001b[43m)\u001b[49m\n",
      "Cell \u001b[1;32mIn[14], line 11\u001b[0m, in \u001b[0;36machar_pares\u001b[1;34m(variavel_lista)\u001b[0m\n\u001b[0;32m      9\u001b[0m \u001b[38;5;28;01mdef\u001b[39;00m \u001b[38;5;21machar_pares\u001b[39m(variavel_lista): \u001b[38;5;66;03m# função = encapsular\u001b[39;00m\n\u001b[0;32m     10\u001b[0m     pares \u001b[38;5;241m=\u001b[39m \u001b[38;5;241m0\u001b[39m\n\u001b[1;32m---> 11\u001b[0m     \u001b[38;5;28;01mfor\u001b[39;00m elemento \u001b[38;5;129;01min\u001b[39;00m variavel_lista:\n\u001b[0;32m     12\u001b[0m         \u001b[38;5;28;01mif\u001b[39;00m elemento \u001b[38;5;241m%\u001b[39m \u001b[38;5;241m2\u001b[39m \u001b[38;5;241m==\u001b[39m\u001b[38;5;241m0\u001b[39m: \u001b[38;5;66;03m# é par\u001b[39;00m\n\u001b[0;32m     13\u001b[0m             pares \u001b[38;5;241m+\u001b[39m\u001b[38;5;241m=\u001b[39m \u001b[38;5;241m1\u001b[39m \u001b[38;5;66;03m# é igual a pares = pares + 1\u001b[39;00m\n",
      "\u001b[1;31mTypeError\u001b[0m: 'int' object is not iterable"
     ]
    }
   ],
   "source": [
    "achar_pares(2) # dá erro pois definimos uma lista (iterável) em um for"
   ]
  },
  {
   "cell_type": "code",
   "execution_count": 18,
   "id": "28e9ddfb",
   "metadata": {},
   "outputs": [],
   "source": [
    "def achar_pares(variavel_lista:list): # função = encapsular\n",
    "    \"\"\"\n",
    "    Essa é uma função que espera uma lista e devolve a quantidade\n",
    "    de números pares\n",
    "    \"\"\"\n",
    "    pares = 0\n",
    "    for elemento in variavel_lista:\n",
    "        if elemento % 2 == 0: # é par\n",
    "            pares += 1 # é igual a pares = pares + 1\n",
    "\n",
    "    print(f\"Na lista existem {pares} números pares\")    "
   ]
  },
  {
   "attachments": {
    "image.png": {
     "image/png": "[encoded data removed]"
    }
   },
   "cell_type": "markdown",
   "id": "b12c45fe",
   "metadata": {},
   "source": [
    "![image.png](attachment:image.png)"
   ]
  },
  {
   "cell_type": "code",
   "execution_count": 19,
   "id": "b329ba21",
   "metadata": {},
   "outputs": [
    {
     "data": {
      "text/plain": [
       "0"
      ]
     },
     "execution_count": 19,
     "metadata": {},
     "output_type": "execute_result"
    }
   ],
   "source": [
    "int() # função embutida que transforma um valor em número inteiro"
   ]
  },
  {
   "attachments": {
    "image.png": {
     "image/png": "[encoded data removed]"
    }
   },
   "cell_type": "markdown",
   "id": "30361044",
   "metadata": {},
   "source": [
    "![image.png](attachment:image.png)"
   ]
  },
  {
   "cell_type": "markdown",
   "id": "824dfe73",
   "metadata": {},
   "source": [
    "**Funções**\n",
    "- Pedacinho do programa e chamamos pelo nome (por convenção usamos lowercase e separamos por _)\n",
    "- Evita repetir várias vezes o mesmo comando e é fácil de corrigir\n",
    "\n",
    "\n",
    "- Guia de estilos (boas práticas no python): https://peps.python.org/pep-0008/\n",
    "\n",
    "- Métodos e funções embutidas no python: https://docs.python.org/3/library/stdtypes.html"
   ]
  },
  {
   "cell_type": "markdown",
   "id": "0289d5b9",
   "metadata": {},
   "source": [
    "## Criando funções"
   ]
  },
  {
   "cell_type": "code",
   "execution_count": 20,
   "id": "aac50568",
   "metadata": {},
   "outputs": [],
   "source": [
    "def minha_primeira_funcao():\n",
    "    print('Olá Mundo')"
   ]
  },
  {
   "cell_type": "code",
   "execution_count": 21,
   "id": "bcbfb447",
   "metadata": {},
   "outputs": [
    {
     "name": "stdout",
     "output_type": "stream",
     "text": [
      "Olá Mundo\n"
     ]
    }
   ],
   "source": [
    "# chamar a função pelo nome para executá-la\n",
    "minha_primeira_funcao()"
   ]
  },
  {
   "cell_type": "markdown",
   "id": "2a2680de",
   "metadata": {},
   "source": [
    "## Parâmetros da função"
   ]
  },
  {
   "cell_type": "code",
   "execution_count": 22,
   "id": "b8c66206",
   "metadata": {},
   "outputs": [],
   "source": [
    "# criar uma função para somar 2 valores\n",
    "\n",
    "def soma(a, b): # a, b são parâmetros ou argumentos da função (dados passados para a função)\n",
    "    resultado = a + b\n",
    "    print(resultado)"
   ]
  },
  {
   "cell_type": "code",
   "execution_count": 23,
   "id": "45540dc6",
   "metadata": {},
   "outputs": [
    {
     "name": "stdout",
     "output_type": "stream",
     "text": [
      "3\n"
     ]
    }
   ],
   "source": [
    "# para executar a função, preciso chamá-la\n",
    "soma(1, 2) # a = 1 e b =2"
   ]
  },
  {
   "cell_type": "code",
   "execution_count": 24,
   "id": "0028b2d6",
   "metadata": {},
   "outputs": [
    {
     "name": "stdout",
     "output_type": "stream",
     "text": [
      "3.0\n"
     ]
    }
   ],
   "source": [
    "soma(1.0, 2.0)"
   ]
  },
  {
   "cell_type": "code",
   "execution_count": 25,
   "id": "3ccb9eab",
   "metadata": {},
   "outputs": [
    {
     "name": "stdout",
     "output_type": "stream",
     "text": [
      "12\n"
     ]
    }
   ],
   "source": [
    "soma(\"1\", \"2\")"
   ]
  },
  {
   "cell_type": "code",
   "execution_count": 26,
   "id": "0e4b9762",
   "metadata": {},
   "outputs": [
    {
     "ename": "TypeError",
     "evalue": "unsupported operand type(s) for +: 'int' and 'str'",
     "output_type": "error",
     "traceback": [
      "\u001b[1;31m---------------------------------------------------------------------------\u001b[0m",
      "\u001b[1;31mTypeError\u001b[0m                                 Traceback (most recent call last)",
      "Cell \u001b[1;32mIn[26], line 1\u001b[0m\n\u001b[1;32m----> 1\u001b[0m \u001b[43msoma\u001b[49m\u001b[43m(\u001b[49m\u001b[38;5;241;43m1\u001b[39;49m\u001b[43m,\u001b[49m\u001b[43m \u001b[49m\u001b[38;5;124;43m\"\u001b[39;49m\u001b[38;5;124;43m2\u001b[39;49m\u001b[38;5;124;43m\"\u001b[39;49m\u001b[43m)\u001b[49m\n",
      "Cell \u001b[1;32mIn[22], line 4\u001b[0m, in \u001b[0;36msoma\u001b[1;34m(a, b)\u001b[0m\n\u001b[0;32m      3\u001b[0m \u001b[38;5;28;01mdef\u001b[39;00m \u001b[38;5;21msoma\u001b[39m(a, b): \u001b[38;5;66;03m# a, b são parâmetros ou argumentos da função (dados passados para a função)\u001b[39;00m\n\u001b[1;32m----> 4\u001b[0m     resultado \u001b[38;5;241m=\u001b[39m \u001b[43ma\u001b[49m\u001b[43m \u001b[49m\u001b[38;5;241;43m+\u001b[39;49m\u001b[43m \u001b[49m\u001b[43mb\u001b[49m\n\u001b[0;32m      5\u001b[0m     \u001b[38;5;28mprint\u001b[39m(resultado)\n",
      "\u001b[1;31mTypeError\u001b[0m: unsupported operand type(s) for +: 'int' and 'str'"
     ]
    }
   ],
   "source": [
    "soma(1, \"2\")"
   ]
  },
  {
   "cell_type": "markdown",
   "id": "c9d4a6e7",
   "metadata": {},
   "source": [
    "Espero 2 valores e uso o operado + entre eles"
   ]
  },
  {
   "cell_type": "code",
   "execution_count": 27,
   "id": "81184c14",
   "metadata": {},
   "outputs": [
    {
     "name": "stdout",
     "output_type": "stream",
     "text": [
      "3\n"
     ]
    }
   ],
   "source": [
    "# para executar a função, preciso chamá-la\n",
    "soma(1, 2) # a = 1 e b = 2"
   ]
  },
  {
   "cell_type": "code",
   "execution_count": 28,
   "id": "b6aeac79",
   "metadata": {},
   "outputs": [
    {
     "name": "stdout",
     "output_type": "stream",
     "text": [
      "3\n"
     ]
    }
   ],
   "source": [
    "soma(a=1, b=2) # alternativa"
   ]
  },
  {
   "cell_type": "code",
   "execution_count": 29,
   "id": "0af69f7a",
   "metadata": {},
   "outputs": [
    {
     "name": "stdout",
     "output_type": "stream",
     "text": [
      "3\n"
     ]
    }
   ],
   "source": [
    "soma(b=2, a=1) # alternativa"
   ]
  },
  {
   "cell_type": "code",
   "execution_count": 30,
   "id": "b09d06a0",
   "metadata": {},
   "outputs": [
    {
     "name": "stdout",
     "output_type": "stream",
     "text": [
      "3\n"
     ]
    }
   ],
   "source": [
    "a = 1\n",
    "soma(a, 2) # alternativa"
   ]
  },
  {
   "cell_type": "code",
   "execution_count": 31,
   "id": "3253320c",
   "metadata": {},
   "outputs": [
    {
     "name": "stdout",
     "output_type": "stream",
     "text": [
      "3\n"
     ]
    }
   ],
   "source": [
    "a = 1\n",
    "b = 2\n",
    "soma(a, b) # alternativa"
   ]
  },
  {
   "cell_type": "code",
   "execution_count": 32,
   "id": "30cc2004",
   "metadata": {},
   "outputs": [
    {
     "name": "stdout",
     "output_type": "stream",
     "text": [
      "3\n"
     ]
    }
   ],
   "source": [
    "soma(b=a, a=b) # Exemplo da Lavínia para bugar a cabeça -> soma(b=1, a=2)"
   ]
  },
  {
   "cell_type": "code",
   "execution_count": 33,
   "id": "e103709f",
   "metadata": {},
   "outputs": [],
   "source": [
    "def soma(a:int, b:int):\n",
    "    \"\"\"\n",
    "    Função que soma 2 valores inteiros\n",
    "    Dados de entrada: int a e int b\n",
    "    Dados de saída: a+b\n",
    "    \"\"\"\n",
    "    resultado = a + b\n",
    "    print(resultado)"
   ]
  },
  {
   "cell_type": "code",
   "execution_count": 34,
   "id": "9caf1eb2",
   "metadata": {},
   "outputs": [],
   "source": [
    "def exemplo_funcao():\n",
    "    c = 1 # variaável LOCAL, fica dentro da função\n",
    "    d = 2\n",
    "    resultado = c + d\n",
    "    print(resultado) # resultado é var local, fica dentro da função"
   ]
  },
  {
   "cell_type": "code",
   "execution_count": 35,
   "id": "a71a4086",
   "metadata": {},
   "outputs": [
    {
     "name": "stdout",
     "output_type": "stream",
     "text": [
      "3\n"
     ]
    }
   ],
   "source": [
    "exemplo_funcao()"
   ]
  },
  {
   "cell_type": "code",
   "execution_count": 36,
   "id": "d2056e72",
   "metadata": {},
   "outputs": [
    {
     "ename": "NameError",
     "evalue": "name 'c' is not defined",
     "output_type": "error",
     "traceback": [
      "\u001b[1;31m---------------------------------------------------------------------------\u001b[0m",
      "\u001b[1;31mNameError\u001b[0m                                 Traceback (most recent call last)",
      "Cell \u001b[1;32mIn[36], line 1\u001b[0m\n\u001b[1;32m----> 1\u001b[0m \u001b[38;5;28mprint\u001b[39m(\u001b[43mc\u001b[49m)\n",
      "\u001b[1;31mNameError\u001b[0m: name 'c' is not defined"
     ]
    }
   ],
   "source": [
    "print(c) # c está dentro da função ---> c não sai do escopo, da função"
   ]
  },
  {
   "cell_type": "code",
   "execution_count": 37,
   "id": "7f88cb60",
   "metadata": {},
   "outputs": [
    {
     "ename": "NameError",
     "evalue": "name 'resultado' is not defined",
     "output_type": "error",
     "traceback": [
      "\u001b[1;31m---------------------------------------------------------------------------\u001b[0m",
      "\u001b[1;31mNameError\u001b[0m                                 Traceback (most recent call last)",
      "Cell \u001b[1;32mIn[37], line 1\u001b[0m\n\u001b[1;32m----> 1\u001b[0m \u001b[38;5;28mprint\u001b[39m(\u001b[43mresultado\u001b[49m)\n",
      "\u001b[1;31mNameError\u001b[0m: name 'resultado' is not defined"
     ]
    }
   ],
   "source": [
    "print(resultado)"
   ]
  },
  {
   "cell_type": "markdown",
   "id": "0936d269",
   "metadata": {},
   "source": [
    "E se eu quero \"tirar da função\"? E se eu quero que a função devolva (retorne) o valor de resultado?"
   ]
  },
  {
   "cell_type": "code",
   "execution_count": 38,
   "id": "1a426adc",
   "metadata": {},
   "outputs": [],
   "source": [
    "def exemplo_funcao():\n",
    "    c = 1 # variaável LOCAL, fica dentro da função\n",
    "    d = 2\n",
    "    resultado = c + d\n",
    "    return resultado"
   ]
  },
  {
   "cell_type": "code",
   "execution_count": 39,
   "id": "f5e39b24",
   "metadata": {},
   "outputs": [],
   "source": [
    "resultado = exemplo_funcao()"
   ]
  },
  {
   "cell_type": "code",
   "execution_count": 40,
   "id": "99469184",
   "metadata": {},
   "outputs": [
    {
     "name": "stdout",
     "output_type": "stream",
     "text": [
      "3\n"
     ]
    }
   ],
   "source": [
    "print(resultado)"
   ]
  },
  {
   "cell_type": "code",
   "execution_count": 41,
   "id": "45bc6ab2",
   "metadata": {},
   "outputs": [
    {
     "data": {
      "text/plain": [
       "6"
      ]
     },
     "execution_count": 41,
     "metadata": {},
     "output_type": "execute_result"
    }
   ],
   "source": [
    "resultado*2"
   ]
  },
  {
   "cell_type": "code",
   "execution_count": 43,
   "id": "bf29ad3d",
   "metadata": {},
   "outputs": [
    {
     "data": {
      "text/plain": [
       "3"
      ]
     },
     "execution_count": 43,
     "metadata": {},
     "output_type": "execute_result"
    }
   ],
   "source": [
    "o_nome_que_eu_quiser = exemplo_funcao()\n",
    "o_nome_que_eu_quiser"
   ]
  },
  {
   "cell_type": "markdown",
   "id": "5bcbbd8a",
   "metadata": {},
   "source": [
    "## Retorno de uma função\n",
    "\n",
    "- \" Resposta da função \", saída, resultado\n",
    "- print -> valor na tela\n",
    "- **return**\n",
    "    - retorno da função (saída ou resultado) (para usaramos depois)\n",
    "    - encerra a função (tudo que estiver abaixo não é executado quando for chamada)\n",
    "- A função usa variáveis que nascem e morrem dentro dela (são chamadas de privadas), não conseguimos acessar nenhuma variável dentro da função A NÃO SER o resultado do RETURN"
   ]
  },
  {
   "cell_type": "code",
   "execution_count": 49,
   "id": "049bfa75",
   "metadata": {},
   "outputs": [
    {
     "name": "stdout",
     "output_type": "stream",
     "text": [
      "print do resultado dentro da função:  5\n",
      "A média é:  2.5\n"
     ]
    }
   ],
   "source": [
    "def soma(a, b):\n",
    "    resultado = a + b\n",
    "    print(\"print do resultado dentro da função: \",resultado) # apenas mostra na tela o valor de uma variável\n",
    "    return resultado # retorna um resutlado/saída da função ---> não exibe nada\n",
    "\n",
    "\n",
    "resultado = soma(2, 3)\n",
    "\n",
    "media = resultado / 2\n",
    "print(\"A média é: \",media)"
   ]
  },
  {
   "cell_type": "code",
   "execution_count": 54,
   "id": "bae2797b",
   "metadata": {},
   "outputs": [
    {
     "name": "stdout",
     "output_type": "stream",
     "text": [
      "print do resultado dentro da função:  5\n",
      "2.5\n"
     ]
    }
   ],
   "source": [
    "def soma_dois_valores(a, b):\n",
    "    resultado = a + b\n",
    "    print(\"print do resultado dentro da função: \",resultado) # apenas mostra na tela o valor de uma variável\n",
    "    return resultado # retorna um resutlado/saída da função ---> não exibe nada\n",
    "\n",
    "res = soma_dois_valores(2,3)\n",
    "\n",
    "def media_dois_valores(resultado):\n",
    "    media = resultado / 2\n",
    "    print(media)\n",
    "    \n",
    "media_dois_valores(res)"
   ]
  },
  {
   "cell_type": "code",
   "execution_count": 55,
   "id": "6a8c9438",
   "metadata": {},
   "outputs": [
    {
     "name": "stdout",
     "output_type": "stream",
     "text": [
      "print do resultado dentro da função:  5\n",
      "2.5\n"
     ]
    }
   ],
   "source": [
    "media_dois_valores(soma_dois_valores(2, 3)) # chamar uma função como argumento de outra"
   ]
  },
  {
   "cell_type": "markdown",
   "id": "7ca5acb3",
   "metadata": {},
   "source": [
    "## Recursividade"
   ]
  },
  {
   "cell_type": "markdown",
   "id": "58f7b027",
   "metadata": {},
   "source": [
    "Mas e se uma função referenciar ela mesma? Isso também funciona e chama-se função recursiva ou recursão"
   ]
  },
  {
   "cell_type": "code",
   "execution_count": 56,
   "id": "db7cd3af",
   "metadata": {},
   "outputs": [],
   "source": [
    "def potencia_de_dois(x):\n",
    "    if x == 0:\n",
    "        return 1 # se x for zero, encerra a função e retorna o valor 1\n",
    "    else:\n",
    "        return 2*potencia_de_dois(x-1) # retorna a solução 2 * (a mesma função do valor menos 1)"
   ]
  },
  {
   "cell_type": "code",
   "execution_count": 57,
   "id": "e028c967",
   "metadata": {},
   "outputs": [
    {
     "data": {
      "text/plain": [
       "1"
      ]
     },
     "execution_count": 57,
     "metadata": {},
     "output_type": "execute_result"
    }
   ],
   "source": [
    "potencia_de_dois(0) # x = 0, a função retorna 1 e encerra a função"
   ]
  },
  {
   "cell_type": "code",
   "execution_count": 58,
   "id": "9f6f509f",
   "metadata": {},
   "outputs": [
    {
     "data": {
      "text/plain": [
       "1024"
      ]
     },
     "execution_count": 58,
     "metadata": {},
     "output_type": "execute_result"
    }
   ],
   "source": [
    "potencia_de_dois(10) # x= 10 retorna 2* potencia(9), que vai ser 2*2*......"
   ]
  },
  {
   "cell_type": "code",
   "execution_count": 59,
   "id": "9a0547b5",
   "metadata": {},
   "outputs": [
    {
     "data": {
      "text/plain": [
       "1024"
      ]
     },
     "execution_count": 59,
     "metadata": {},
     "output_type": "execute_result"
    }
   ],
   "source": [
    "2**10"
   ]
  },
  {
   "cell_type": "code",
   "execution_count": 61,
   "id": "52aea26e",
   "metadata": {},
   "outputs": [
    {
     "data": {
      "text/plain": [
       "1024"
      ]
     },
     "execution_count": 61,
     "metadata": {},
     "output_type": "execute_result"
    }
   ],
   "source": [
    "2*2**(10-1)"
   ]
  },
  {
   "cell_type": "markdown",
   "id": "9978d0d1",
   "metadata": {},
   "source": [
    "Se chamarmos potenciadedois(4), o que acontecerá? O programa começará a executar a função, cairá no else e encontrará a função chamada novamente. Neste caso, ele salva x valendo 4 e salva que a execução foi interrompida nessa linha. Então ele cria um novo x valendo 3, cai novamente no else e salva que a execução foi interrompida nessa linha, e assim sucessivamente.\n",
    "\n",
    "Note que para cada passo recursivo, as variáveis da função são copiadas e também é salvo o ponto onde a execução parou. Ou seja, funções recursivas podem consumir bastante memória, além de tempo de processamento para ficar criando cópias. A vantagem delas é o rigor matemático: podemos transcrever funções matemáticas quase exatamente como elas são, sem criar loops e variáveis para ficar guardando estados."
   ]
  },
  {
   "cell_type": "code",
   "execution_count": 62,
   "id": "43732e01",
   "metadata": {},
   "outputs": [
    {
     "data": {
      "text/plain": [
       "16"
      ]
     },
     "execution_count": 62,
     "metadata": {},
     "output_type": "execute_result"
    }
   ],
   "source": [
    "potencia_de_dois(4)"
   ]
  },
  {
   "cell_type": "code",
   "execution_count": null,
   "id": "358ab3d6",
   "metadata": {},
   "outputs": [],
   "source": []
  }
 ],
 "metadata": {
  "kernelspec": {
   "display_name": "Python 3 (ipykernel)",
   "language": "python",
   "name": "python3"
  },
  "language_info": {
   "codemirror_mode": {
    "name": "ipython",
    "version": 3
   },
   "file_extension": ".py",
   "mimetype": "text/x-python",
   "name": "python",
   "nbconvert_exporter": "python",
   "pygments_lexer": "ipython3",
   "version": "3.10.9"
  }
 },
 "nbformat": 4,
 "nbformat_minor": 5
}
