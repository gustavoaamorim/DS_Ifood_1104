{
 "cells": [
  {
   "cell_type": "markdown",
   "id": "b8a607df",
   "metadata": {},
   "source": [
    "# Revisão"
   ]
  },
  {
   "cell_type": "markdown",
   "id": "def4c1fa",
   "metadata": {},
   "source": [
    "## Listas\n",
    "\n",
    "Coleção mutável de objetos"
   ]
  },
  {
   "cell_type": "code",
   "execution_count": 9,
   "id": "0552ab59",
   "metadata": {},
   "outputs": [],
   "source": [
    "lista = [] # lista vazia\n",
    "\n",
    "lista1 = list() # lista vazia\n",
    "\n",
    "lista2 = [1, 2, 3]\n",
    "\n",
    "lista3 = ['a', 'b', 'c']\n",
    "\n",
    "lista4 = [1, 2.0, -3, \"quatro\", True] # elementos são de tipos diferentes\n",
    "\n",
    "lista5 = [1, 2.0, -3, \"quatro\", True, [2, 3]]"
   ]
  },
  {
   "cell_type": "code",
   "execution_count": 7,
   "id": "2c47b9af",
   "metadata": {},
   "outputs": [
    {
     "name": "stdout",
     "output_type": "stream",
     "text": [
      "<class 'list'>\n"
     ]
    }
   ],
   "source": [
    "print(type(lista))"
   ]
  },
  {
   "cell_type": "markdown",
   "id": "7142bc39",
   "metadata": {},
   "source": [
    "A lista possui valores (elementos) e índices"
   ]
  },
  {
   "cell_type": "code",
   "execution_count": null,
   "id": "a3a18940",
   "metadata": {},
   "outputs": [],
   "source": [
    "[1, 2.0, -3, \"quatro\", True, [2, 3]]  \n",
    " 0   1   2     3        4      5    ---> Posição"
   ]
  },
  {
   "cell_type": "code",
   "execution_count": 11,
   "id": "971cdeff",
   "metadata": {},
   "outputs": [
    {
     "data": {
      "text/plain": [
       "'quatro'"
      ]
     },
     "execution_count": 11,
     "metadata": {},
     "output_type": "execute_result"
    }
   ],
   "source": [
    "lista5[3] # acessar o elemento \"quatro\" "
   ]
  },
  {
   "cell_type": "code",
   "execution_count": 13,
   "id": "db0e8d04",
   "metadata": {},
   "outputs": [
    {
     "data": {
      "text/plain": [
       "True"
      ]
     },
     "execution_count": 13,
     "metadata": {},
     "output_type": "execute_result"
    }
   ],
   "source": [
    "lista5[4] # acessar a posição 4 --> não é o quarto elemento -----PYTHON O ÍNDICE COMEÇA NO ZERO"
   ]
  },
  {
   "cell_type": "code",
   "execution_count": 17,
   "id": "da5f788f",
   "metadata": {},
   "outputs": [],
   "source": [
    "# substituindo elementos da lista (mutável)\n",
    "\n",
    "lista5[2] = -4 # substituindo o número -3 por -4"
   ]
  },
  {
   "cell_type": "code",
   "execution_count": 18,
   "id": "e04f1592",
   "metadata": {},
   "outputs": [
    {
     "data": {
      "text/plain": [
       "[1, 2.0, -4, 'quatro', True, [2, 3]]"
      ]
     },
     "execution_count": 18,
     "metadata": {},
     "output_type": "execute_result"
    }
   ],
   "source": [
    "lista5"
   ]
  },
  {
   "cell_type": "code",
   "execution_count": 19,
   "id": "003c80f8",
   "metadata": {},
   "outputs": [],
   "source": [
    "# Acessar uma parte da lista (slice)\n",
    "\n",
    "impares = [1, 3, 5, 7, 9, 11, 13, 15, 17]\n",
    "# indices  0  1  2  3  4  5   6   7   8\n"
   ]
  },
  {
   "cell_type": "code",
   "execution_count": 23,
   "id": "1ba8315c",
   "metadata": {},
   "outputs": [
    {
     "data": {
      "text/plain": [
       "[7, 9, 11, 13, 15, 17]"
      ]
     },
     "execution_count": 23,
     "metadata": {},
     "output_type": "execute_result"
    }
   ],
   "source": [
    "impares[3:] # estou acessando do valor 7 em diante, ou seja, a posição 3 até o final"
   ]
  },
  {
   "cell_type": "code",
   "execution_count": 24,
   "id": "1422bba4",
   "metadata": {},
   "outputs": [
    {
     "data": {
      "text/plain": [
       "[7, 9, 11, 13, 15]"
      ]
     },
     "execution_count": 24,
     "metadata": {},
     "output_type": "execute_result"
    }
   ],
   "source": [
    "impares[3:8] # cuidado!!!! o último valor é excludente"
   ]
  },
  {
   "cell_type": "code",
   "execution_count": 25,
   "id": "2a6ba4f0",
   "metadata": {},
   "outputs": [
    {
     "data": {
      "text/plain": [
       "[7, 9, 11, 13, 15, 17]"
      ]
     },
     "execution_count": 25,
     "metadata": {},
     "output_type": "execute_result"
    }
   ],
   "source": [
    "impares[3:9] # impares[3:len(impares)+1]"
   ]
  },
  {
   "cell_type": "code",
   "execution_count": 26,
   "id": "ba6aa718",
   "metadata": {},
   "outputs": [
    {
     "data": {
      "text/plain": [
       "[7, 9, 11, 13, 15, 17]"
      ]
     },
     "execution_count": 26,
     "metadata": {},
     "output_type": "execute_result"
    }
   ],
   "source": [
    "impares[3:10]"
   ]
  },
  {
   "cell_type": "code",
   "execution_count": 27,
   "id": "415a5a19",
   "metadata": {},
   "outputs": [
    {
     "data": {
      "text/plain": [
       "[7, 9, 11, 13, 15]"
      ]
     },
     "execution_count": 27,
     "metadata": {},
     "output_type": "execute_result"
    }
   ],
   "source": [
    "impares[3:-1] #-1 seleciona o último valor da lista (ou a última posição) ---SLICE : ele vai até a última posição"
   ]
  },
  {
   "cell_type": "code",
   "execution_count": 28,
   "id": "6f2fd4ca",
   "metadata": {},
   "outputs": [
    {
     "data": {
      "text/plain": [
       "17"
      ]
     },
     "execution_count": 28,
     "metadata": {},
     "output_type": "execute_result"
    }
   ],
   "source": [
    "impares[-1] # -1 seleciona o último valor da lista (ou a última posição)"
   ]
  },
  {
   "cell_type": "code",
   "execution_count": 29,
   "id": "c24a176e",
   "metadata": {},
   "outputs": [
    {
     "data": {
      "text/plain": [
       "15"
      ]
     },
     "execution_count": 29,
     "metadata": {},
     "output_type": "execute_result"
    }
   ],
   "source": [
    "impares[-2]"
   ]
  },
  {
   "cell_type": "code",
   "execution_count": 40,
   "id": "50e9aefa",
   "metadata": {},
   "outputs": [
    {
     "data": {
      "text/plain": [
       "[3, 6, 9]"
      ]
     },
     "execution_count": 40,
     "metadata": {},
     "output_type": "execute_result"
    }
   ],
   "source": [
    "# voltando para o fatiamento (slice)\n",
    "\n",
    "numeros = [0, 1, 2, 3, 4, 5, 6, 7, 8, 9, 10, 11, 12, 13, 14, 15]\n",
    "\n",
    "numeros[3:11:3] # posições --> [indice_inicial, indice_final, passo]"
   ]
  },
  {
   "cell_type": "code",
   "execution_count": 36,
   "id": "5d4a9a0a",
   "metadata": {},
   "outputs": [
    {
     "data": {
      "text/plain": [
       "16"
      ]
     },
     "execution_count": 36,
     "metadata": {},
     "output_type": "execute_result"
    }
   ],
   "source": [
    "len(numeros) # tamanho da lista"
   ]
  },
  {
   "cell_type": "code",
   "execution_count": 41,
   "id": "09ef10c6",
   "metadata": {},
   "outputs": [
    {
     "name": "stdout",
     "output_type": "stream",
     "text": [
      "0\n",
      "1\n",
      "2\n",
      "3\n",
      "4\n",
      "5\n",
      "6\n",
      "7\n",
      "8\n",
      "9\n",
      "10\n",
      "11\n",
      "12\n",
      "13\n",
      "14\n",
      "15\n"
     ]
    }
   ],
   "source": [
    "# maneira mais fácil de percorrer a lista\n",
    "\n",
    "for elemento in numeros:\n",
    "    print(elemento)"
   ]
  },
  {
   "cell_type": "code",
   "execution_count": 43,
   "id": "61ae3d06",
   "metadata": {},
   "outputs": [
    {
     "name": "stdout",
     "output_type": "stream",
     "text": [
      "16\n"
     ]
    }
   ],
   "source": [
    "tamanho = len(numeros)\n",
    "print(tamanho)"
   ]
  },
  {
   "cell_type": "code",
   "execution_count": 44,
   "id": "40f4c61e",
   "metadata": {},
   "outputs": [
    {
     "name": "stdout",
     "output_type": "stream",
     "text": [
      "0\n",
      "1\n",
      "2\n",
      "3\n",
      "4\n",
      "5\n",
      "6\n",
      "7\n",
      "8\n",
      "9\n",
      "10\n",
      "11\n",
      "12\n",
      "13\n",
      "14\n",
      "15\n"
     ]
    }
   ],
   "source": [
    "# outra forma de percorrer a lista\n",
    "\n",
    "for indice in range(tamanho):\n",
    "    print(numeros[indice])"
   ]
  },
  {
   "cell_type": "code",
   "execution_count": 52,
   "id": "4ff91147",
   "metadata": {},
   "outputs": [],
   "source": [
    "lista = [1, -3, 4, 10, 0, 2., -6, 7, 2, 1, 2, 5]"
   ]
  },
  {
   "cell_type": "code",
   "execution_count": null,
   "id": "fbbb2eeb",
   "metadata": {},
   "outputs": [],
   "source": [
    "# ordenar os elementos\n",
    "\n",
    "auxiliar = 0 \n",
    "\n",
    "for indice in lista:\n",
    "    auxiliar = element\n",
    "    \n",
    "# percorre a lista procurando o menor valor e adiciona em uma nova lista, excluindo da lista anterior\n"
   ]
  },
  {
   "cell_type": "markdown",
   "id": "5d67aa23",
   "metadata": {},
   "source": [
    "### Métodos e Funções de listas\n",
    "https://docs.python.org/3/tutorial/datastructures.html"
   ]
  },
  {
   "cell_type": "code",
   "execution_count": 54,
   "id": "bd5d3df9",
   "metadata": {},
   "outputs": [
    {
     "data": {
      "text/plain": [
       "[-6, -3, 0, 1, 1, 2.0, 2, 2, 4, 5, 7, 10]"
      ]
     },
     "execution_count": 54,
     "metadata": {},
     "output_type": "execute_result"
    }
   ],
   "source": [
    "sorted(lista) # função sorted"
   ]
  },
  {
   "cell_type": "code",
   "execution_count": 61,
   "id": "4b01725f",
   "metadata": {},
   "outputs": [
    {
     "data": {
      "text/plain": [
       "[10, 7, 5, 4, 2.0, 2, 2, 1, 1, 0, -3, -6]"
      ]
     },
     "execution_count": 61,
     "metadata": {},
     "output_type": "execute_result"
    }
   ],
   "source": [
    "sorted(lista, reverse=True) # função sorted decrescente"
   ]
  },
  {
   "cell_type": "code",
   "execution_count": 49,
   "id": "d7a308a2",
   "metadata": {},
   "outputs": [
    {
     "data": {
      "text/plain": [
       "['a', 'b', 'c']"
      ]
     },
     "execution_count": 49,
     "metadata": {},
     "output_type": "execute_result"
    }
   ],
   "source": [
    "sorted(['b', 'a', 'c'])"
   ]
  },
  {
   "cell_type": "code",
   "execution_count": 51,
   "id": "7b167002",
   "metadata": {},
   "outputs": [
    {
     "ename": "TypeError",
     "evalue": "'<' not supported between instances of 'float' and 'str'",
     "output_type": "error",
     "traceback": [
      "\u001b[1;31m---------------------------------------------------------------------------\u001b[0m",
      "\u001b[1;31mTypeError\u001b[0m                                 Traceback (most recent call last)",
      "Cell \u001b[1;32mIn[51], line 1\u001b[0m\n\u001b[1;32m----> 1\u001b[0m \u001b[38;5;28;43msorted\u001b[39;49m\u001b[43m(\u001b[49m\u001b[43m[\u001b[49m\u001b[38;5;124;43m'\u001b[39;49m\u001b[38;5;124;43mb\u001b[39;49m\u001b[38;5;124;43m'\u001b[39;49m\u001b[43m,\u001b[49m\u001b[43m \u001b[49m\u001b[38;5;124;43m'\u001b[39;49m\u001b[38;5;124;43ma\u001b[39;49m\u001b[38;5;124;43m'\u001b[39;49m\u001b[43m,\u001b[49m\u001b[43m \u001b[49m\u001b[38;5;124;43m'\u001b[39;49m\u001b[38;5;124;43mc\u001b[39;49m\u001b[38;5;124;43m'\u001b[39;49m\u001b[43m,\u001b[49m\u001b[43m \u001b[49m\u001b[38;5;241;43m1.\u001b[39;49m\u001b[43m,\u001b[49m\u001b[43m \u001b[49m\u001b[38;5;241;43m3\u001b[39;49m\u001b[43m,\u001b[49m\u001b[43m \u001b[49m\u001b[38;5;241;43m2\u001b[39;49m\u001b[43m]\u001b[49m\u001b[43m)\u001b[49m\n",
      "\u001b[1;31mTypeError\u001b[0m: '<' not supported between instances of 'float' and 'str'"
     ]
    }
   ],
   "source": [
    "sorted(['b', 'a', 'c', 1., 3, 2])"
   ]
  },
  {
   "cell_type": "code",
   "execution_count": 55,
   "id": "fc45d425",
   "metadata": {},
   "outputs": [
    {
     "data": {
      "text/plain": [
       "[1, -3, 4, 10, 0, 2.0, -6, 7, 2, 1, 2, 5]"
      ]
     },
     "execution_count": 55,
     "metadata": {},
     "output_type": "execute_result"
    }
   ],
   "source": [
    "lista # a função sorted NÃO altera a lista original, a não ser que seja atribuída ela mesma ou a outra lista"
   ]
  },
  {
   "cell_type": "code",
   "execution_count": 57,
   "id": "128fba75",
   "metadata": {},
   "outputs": [],
   "source": [
    "lista.sort() # tente lista.reverse()"
   ]
  },
  {
   "cell_type": "code",
   "execution_count": 58,
   "id": "c57f7a0f",
   "metadata": {},
   "outputs": [
    {
     "data": {
      "text/plain": [
       "[-6, -3, 0, 1, 1, 2.0, 2, 2, 4, 5, 7, 10]"
      ]
     },
     "execution_count": 58,
     "metadata": {},
     "output_type": "execute_result"
    }
   ],
   "source": [
    "lista # o método sort ALTERA a lista"
   ]
  },
  {
   "cell_type": "code",
   "execution_count": 59,
   "id": "78e97838",
   "metadata": {},
   "outputs": [],
   "source": [
    "# Adicionar elementos na lista\n",
    "\n",
    "pares = [0, 2, 4, 6, 8]"
   ]
  },
  {
   "cell_type": "code",
   "execution_count": 62,
   "id": "8d18d314",
   "metadata": {},
   "outputs": [],
   "source": [
    "pares.append(10) # acrescenta um valor ao final da lista"
   ]
  },
  {
   "cell_type": "code",
   "execution_count": 63,
   "id": "82aab420",
   "metadata": {},
   "outputs": [
    {
     "data": {
      "text/plain": [
       "[0, 2, 4, 6, 8, 10]"
      ]
     },
     "execution_count": 63,
     "metadata": {},
     "output_type": "execute_result"
    }
   ],
   "source": [
    "pares"
   ]
  },
  {
   "cell_type": "code",
   "execution_count": 74,
   "id": "a3d17f20",
   "metadata": {},
   "outputs": [
    {
     "name": "stdout",
     "output_type": "stream",
     "text": [
      "[0, 2, 4, 6, 8, 10]\n"
     ]
    }
   ],
   "source": [
    "# outra forma de adicionar elemento com a posição da lista\n",
    "\n",
    "print(pares)\n",
    "\n",
    "# acrescentar o valor 6 na posição 3\n",
    "\n",
    "pares.insert(3, 6) # a função insert precisa da posição seguida do valor que quero adicionar\n",
    "# insert(indice, valor)"
   ]
  },
  {
   "cell_type": "code",
   "execution_count": 75,
   "id": "84c9c51b",
   "metadata": {},
   "outputs": [
    {
     "name": "stdout",
     "output_type": "stream",
     "text": [
      "[0, 2, 4, 6, 6, 8, 10]\n"
     ]
    }
   ],
   "source": [
    "# remover um valor da lista pares\n",
    "\n",
    "print(pares)"
   ]
  },
  {
   "cell_type": "code",
   "execution_count": 76,
   "id": "dcc4cd86",
   "metadata": {},
   "outputs": [
    {
     "name": "stdout",
     "output_type": "stream",
     "text": [
      "[0, 2, 6, 6, 8, 10]\n"
     ]
    }
   ],
   "source": [
    "pares.remove(4) # Remove o primeiro valor encontrado\n",
    "\n",
    "print(pares)"
   ]
  },
  {
   "cell_type": "code",
   "execution_count": 77,
   "id": "7ee123c0",
   "metadata": {},
   "outputs": [
    {
     "ename": "ValueError",
     "evalue": "list.remove(x): x not in list",
     "output_type": "error",
     "traceback": [
      "\u001b[1;31m---------------------------------------------------------------------------\u001b[0m",
      "\u001b[1;31mValueError\u001b[0m                                Traceback (most recent call last)",
      "Cell \u001b[1;32mIn[77], line 1\u001b[0m\n\u001b[1;32m----> 1\u001b[0m \u001b[43mpares\u001b[49m\u001b[38;5;241;43m.\u001b[39;49m\u001b[43mremove\u001b[49m\u001b[43m(\u001b[49m\u001b[38;5;241;43m1\u001b[39;49m\u001b[43m)\u001b[49m\n",
      "\u001b[1;31mValueError\u001b[0m: list.remove(x): x not in list"
     ]
    }
   ],
   "source": [
    "pares.remove(1)"
   ]
  },
  {
   "cell_type": "code",
   "execution_count": 79,
   "id": "562e33a9",
   "metadata": {},
   "outputs": [
    {
     "name": "stdout",
     "output_type": "stream",
     "text": [
      "[0, 2, 6, 6, 8, 10]\n"
     ]
    },
    {
     "data": {
      "text/plain": [
       "6"
      ]
     },
     "execution_count": 79,
     "metadata": {},
     "output_type": "execute_result"
    }
   ],
   "source": [
    "print(pares)\n",
    "\n",
    "pares.pop(2) #mostra qual valor ele irá remover da posição dada"
   ]
  },
  {
   "cell_type": "code",
   "execution_count": 80,
   "id": "d0a71590",
   "metadata": {},
   "outputs": [
    {
     "name": "stdout",
     "output_type": "stream",
     "text": [
      "[0, 2, 6, 8, 10]\n"
     ]
    }
   ],
   "source": [
    "print(pares)"
   ]
  },
  {
   "cell_type": "code",
   "execution_count": 81,
   "id": "76b14563",
   "metadata": {},
   "outputs": [
    {
     "data": {
      "text/plain": [
       "4"
      ]
     },
     "execution_count": 81,
     "metadata": {},
     "output_type": "execute_result"
    }
   ],
   "source": [
    "# Buscar um elemento\n",
    "\n",
    "pi = [3, 1, 4, 1, 5, 9, 2, 6, 5]\n",
    "\n",
    "# quero saber o índice do valor 5\n",
    "pi.index(5) # dá a posição do primeiro valor encontrado"
   ]
  },
  {
   "cell_type": "code",
   "execution_count": 82,
   "id": "67d8efd8",
   "metadata": {},
   "outputs": [
    {
     "name": "stdout",
     "output_type": "stream",
     "text": [
      "9 9 1\n"
     ]
    }
   ],
   "source": [
    "tamanho = len(pi)\n",
    "maior = max(pi) #função que dã o maior valor da lista\n",
    "menor = min(pi)\n",
    "\n",
    "print(tamanho, maior, menor)"
   ]
  },
  {
   "cell_type": "code",
   "execution_count": 83,
   "id": "a4e2a71d",
   "metadata": {},
   "outputs": [
    {
     "data": {
      "text/plain": [
       "2"
      ]
     },
     "execution_count": 83,
     "metadata": {},
     "output_type": "execute_result"
    }
   ],
   "source": [
    "# quantas vezes o valor 5 aparece\n",
    "\n",
    "pi.count(5) # conta quantas vezes o elemento aparece na lista"
   ]
  },
  {
   "cell_type": "code",
   "execution_count": 84,
   "id": "861be59e",
   "metadata": {},
   "outputs": [
    {
     "data": {
      "text/plain": [
       "[3, 1, 4, 1, 5, 9, 2, 6, 5, [1, 2]]"
      ]
     },
     "execution_count": 84,
     "metadata": {},
     "output_type": "execute_result"
    }
   ],
   "source": [
    "a = [1, 2]\n",
    "\n",
    "pi.append(a) # adiciona elemento (objeto) na última posição\n",
    "\n",
    "pi"
   ]
  },
  {
   "cell_type": "code",
   "execution_count": 85,
   "id": "ec6aa7de",
   "metadata": {},
   "outputs": [
    {
     "data": {
      "text/plain": [
       "[3, 1, 4, 1, 5, 9, 2, 6, 5, 1, 2]"
      ]
     },
     "execution_count": 85,
     "metadata": {},
     "output_type": "execute_result"
    }
   ],
   "source": [
    "pi = [3, 1, 4, 1, 5, 9, 2, 6, 5]\n",
    "\n",
    "pi.extend(a) # adicinou os elementos da lista na lista anterior (ele desencapsulou)\n",
    "\n",
    "pi"
   ]
  },
  {
   "cell_type": "markdown",
   "id": "9968a75f",
   "metadata": {},
   "source": [
    "## Operações entre listas"
   ]
  },
  {
   "cell_type": "code",
   "execution_count": 108,
   "id": "f2fac1d4",
   "metadata": {},
   "outputs": [
    {
     "data": {
      "text/plain": [
       "[-6,\n",
       " -3,\n",
       " 0,\n",
       " 1,\n",
       " 1,\n",
       " 2.0,\n",
       " 2,\n",
       " 2,\n",
       " 4,\n",
       " 5,\n",
       " 7,\n",
       " 10,\n",
       " -6,\n",
       " -3,\n",
       " 0,\n",
       " 1,\n",
       " 1,\n",
       " 2.0,\n",
       " 2,\n",
       " 2,\n",
       " 4,\n",
       " 5,\n",
       " 7,\n",
       " 10]"
      ]
     },
     "execution_count": 108,
     "metadata": {},
     "output_type": "execute_result"
    }
   ],
   "source": [
    "lista + lista # adicionou os elementos das duas listas em uma"
   ]
  },
  {
   "cell_type": "code",
   "execution_count": 110,
   "id": "9ecde118",
   "metadata": {},
   "outputs": [
    {
     "data": {
      "text/plain": [
       "[-6,\n",
       " -3,\n",
       " 0,\n",
       " 1,\n",
       " 1,\n",
       " 2.0,\n",
       " 2,\n",
       " 2,\n",
       " 4,\n",
       " 5,\n",
       " 7,\n",
       " 10,\n",
       " -6,\n",
       " -3,\n",
       " 0,\n",
       " 1,\n",
       " 1,\n",
       " 2.0,\n",
       " 2,\n",
       " 2,\n",
       " 4,\n",
       " 5,\n",
       " 7,\n",
       " 10]"
      ]
     },
     "execution_count": 110,
     "metadata": {},
     "output_type": "execute_result"
    }
   ],
   "source": [
    "lista * 2 # * repete a sequência"
   ]
  },
  {
   "cell_type": "code",
   "execution_count": 112,
   "id": "9fcb1ba2",
   "metadata": {},
   "outputs": [
    {
     "data": {
      "text/plain": [
       "[-12, -6, 0, 2, 2, 4.0, 4, 4, 8, 10, 14, 20]"
      ]
     },
     "execution_count": 112,
     "metadata": {},
     "output_type": "execute_result"
    }
   ],
   "source": [
    "# quero multiplicar por 2 cada elemento da lista\n",
    "[2*i for i in lista]"
   ]
  },
  {
   "cell_type": "markdown",
   "id": "457f29c3",
   "metadata": {},
   "source": [
    "## List Comprehension (compreensão de listas)\n",
    "\n"
   ]
  },
  {
   "cell_type": "code",
   "execution_count": 88,
   "id": "b5cfa683",
   "metadata": {},
   "outputs": [
    {
     "data": {
      "text/plain": [
       "[0, 1, 4, 9, 16, 25, 36, 49, 64, 81]"
      ]
     },
     "execution_count": 88,
     "metadata": {},
     "output_type": "execute_result"
    }
   ],
   "source": [
    "# quero uma lista com o cálculo do quadrado dos valores de 0 a 9\n",
    "\n",
    "lista_quadrados = []\n",
    "\n",
    "for i in range(10):\n",
    "    lista_quadrados.append(i * i)\n",
    "    \n",
    "lista_quadrados"
   ]
  },
  {
   "cell_type": "code",
   "execution_count": 91,
   "id": "db5b9ab6",
   "metadata": {},
   "outputs": [
    {
     "data": {
      "text/plain": [
       "[0, 1, 4, 9, 16, 25, 36, 49, 64, 81]"
      ]
     },
     "execution_count": 91,
     "metadata": {},
     "output_type": "execute_result"
    }
   ],
   "source": [
    "lista_quadrados2 = [i * i for i in range(10)]\n",
    "lista_quadrados2"
   ]
  },
  {
   "cell_type": "code",
   "execution_count": 94,
   "id": "9413a5ba",
   "metadata": {},
   "outputs": [
    {
     "data": {
      "text/plain": [
       "[0, 4, 16, 36, 64]"
      ]
     },
     "execution_count": 94,
     "metadata": {},
     "output_type": "execute_result"
    }
   ],
   "source": [
    "# quero uma lista com o cálculo do quadrado dos valores de 0 a 9 - somente os números pares\n",
    "\n",
    "lista_quadrados3 = [i * i for i in range(10) if i % 2 == 0]\n",
    "lista_quadrados3"
   ]
  },
  {
   "cell_type": "code",
   "execution_count": 95,
   "id": "2ba97d65",
   "metadata": {},
   "outputs": [
    {
     "name": "stdout",
     "output_type": "stream",
     "text": [
      "[0, 4, 16, 36, 64]\n"
     ]
    }
   ],
   "source": [
    "lista_quadrados4 = []\n",
    "for i in range(10):\n",
    "    if i % 2 == 0:\n",
    "        lista_quadrados4.append(i * i)\n",
    "        \n",
    "print(lista_quadrados4)"
   ]
  },
  {
   "cell_type": "markdown",
   "id": "a3214e2a",
   "metadata": {},
   "source": [
    "# STRINGS"
   ]
  },
  {
   "cell_type": "markdown",
   "id": "de3a25aa",
   "metadata": {},
   "source": [
    "- string = texto, literal\n",
    "- string é uma coleção de caracteres\n",
    "- strings são imutáveis"
   ]
  },
  {
   "cell_type": "code",
   "execution_count": 96,
   "id": "8e6d2256",
   "metadata": {},
   "outputs": [],
   "source": [
    "variavel1 = 'texto'\n",
    "variavel2 = \"palavra\"\n",
    "variavel3 = \"Let's Code\""
   ]
  },
  {
   "cell_type": "code",
   "execution_count": 98,
   "id": "3aad0a3a",
   "metadata": {},
   "outputs": [
    {
     "data": {
      "text/plain": [
       "str"
      ]
     },
     "execution_count": 98,
     "metadata": {},
     "output_type": "execute_result"
    }
   ],
   "source": [
    "type(variavel3)"
   ]
  },
  {
   "cell_type": "code",
   "execution_count": 102,
   "id": "72103143",
   "metadata": {},
   "outputs": [
    {
     "name": "stdout",
     "output_type": "stream",
     "text": [
      "L\n",
      "e\n",
      "t\n",
      "'\n",
      "s\n"
     ]
    }
   ],
   "source": [
    "# Acessar uma string\n",
    "\n",
    "frase = \"Let's Code by Ada Tech\"\n",
    "\n",
    "print(frase[0]) # acessa a partir de índices\n",
    "print(frase[1])\n",
    "print(frase[2])\n",
    "print(frase[3])\n",
    "print(frase[4])"
   ]
  },
  {
   "cell_type": "code",
   "execution_count": 103,
   "id": "13d92510",
   "metadata": {},
   "outputs": [
    {
     "ename": "TypeError",
     "evalue": "'str' object does not support item assignment",
     "output_type": "error",
     "traceback": [
      "\u001b[1;31m---------------------------------------------------------------------------\u001b[0m",
      "\u001b[1;31mTypeError\u001b[0m                                 Traceback (most recent call last)",
      "Cell \u001b[1;32mIn[103], line 1\u001b[0m\n\u001b[1;32m----> 1\u001b[0m \u001b[43mfrase\u001b[49m\u001b[43m[\u001b[49m\u001b[38;5;241;43m0\u001b[39;49m\u001b[43m]\u001b[49m \u001b[38;5;241m=\u001b[39m \u001b[38;5;124m'\u001b[39m\u001b[38;5;124mp\u001b[39m\u001b[38;5;124m'\u001b[39m\n",
      "\u001b[1;31mTypeError\u001b[0m: 'str' object does not support item assignment"
     ]
    }
   ],
   "source": [
    "frase[0] = 'p'"
   ]
  },
  {
   "cell_type": "markdown",
   "id": "65ed8218",
   "metadata": {},
   "source": [
    "string é imutável"
   ]
  },
  {
   "cell_type": "code",
   "execution_count": 104,
   "id": "ed8e8cfb",
   "metadata": {},
   "outputs": [
    {
     "name": "stdout",
     "output_type": "stream",
     "text": [
      "L\n",
      "e\n",
      "t\n",
      "'\n",
      "s\n",
      " \n",
      "C\n",
      "o\n",
      "d\n",
      "e\n",
      " \n",
      "b\n",
      "y\n",
      " \n",
      "A\n",
      "d\n",
      "a\n",
      " \n",
      "T\n",
      "e\n",
      "c\n",
      "h\n"
     ]
    }
   ],
   "source": [
    "for caracter in frase:\n",
    "    print(caracter)"
   ]
  },
  {
   "cell_type": "markdown",
   "id": "af1f6031",
   "metadata": {},
   "source": [
    "## Operações entre strings"
   ]
  },
  {
   "cell_type": "code",
   "execution_count": 115,
   "id": "4b92d18e",
   "metadata": {},
   "outputs": [],
   "source": [
    "palavra1 = \"crianças\"\n",
    "palavra2 = \"dia das \""
   ]
  },
  {
   "cell_type": "code",
   "execution_count": 116,
   "id": "a3714afd",
   "metadata": {},
   "outputs": [
    {
     "data": {
      "text/plain": [
       "'dia das crianças'"
      ]
     },
     "execution_count": 116,
     "metadata": {},
     "output_type": "execute_result"
    }
   ],
   "source": [
    "palavra2 + palavra1"
   ]
  },
  {
   "cell_type": "markdown",
   "id": "52b464bb",
   "metadata": {},
   "source": [
    "- Concatenar (unir duas ou mais strings)"
   ]
  },
  {
   "cell_type": "code",
   "execution_count": 118,
   "id": "650bfc06",
   "metadata": {},
   "outputs": [
    {
     "name": "stdout",
     "output_type": "stream",
     "text": [
      "Let's Code by Ada Techqualquer coisa\n"
     ]
    }
   ],
   "source": [
    "frase1 = frase + \"qualquer coisa\" # operador soma em string é concatenar\n",
    "\n",
    "print(frase1)"
   ]
  },
  {
   "cell_type": "code",
   "execution_count": 119,
   "id": "9e2fc94e",
   "metadata": {},
   "outputs": [
    {
     "name": "stdout",
     "output_type": "stream",
     "text": [
      "Let's Code by Ada Tech qualquer coisa\n"
     ]
    }
   ],
   "source": [
    "frase1 = frase + \" \" + \"qualquer coisa\" # operador soma em string é concatenar\n",
    "\n",
    "print(frase1)"
   ]
  },
  {
   "cell_type": "code",
   "execution_count": 120,
   "id": "1adfca76",
   "metadata": {},
   "outputs": [
    {
     "ename": "TypeError",
     "evalue": "can only concatenate str (not \"int\") to str",
     "output_type": "error",
     "traceback": [
      "\u001b[1;31m---------------------------------------------------------------------------\u001b[0m",
      "\u001b[1;31mTypeError\u001b[0m                                 Traceback (most recent call last)",
      "Cell \u001b[1;32mIn[120], line 3\u001b[0m\n\u001b[0;32m      1\u001b[0m numero \u001b[38;5;241m=\u001b[39m \u001b[38;5;241m2\u001b[39m\n\u001b[1;32m----> 3\u001b[0m \u001b[43mfrase\u001b[49m\u001b[43m \u001b[49m\u001b[38;5;241;43m+\u001b[39;49m\u001b[43m \u001b[49m\u001b[43mnumero\u001b[49m\n",
      "\u001b[1;31mTypeError\u001b[0m: can only concatenate str (not \"int\") to str"
     ]
    }
   ],
   "source": [
    "numero = 2\n",
    "\n",
    "frase + numero #SÓ CONCATENA STRING COM STRING"
   ]
  },
  {
   "cell_type": "code",
   "execution_count": 121,
   "id": "14730c68",
   "metadata": {},
   "outputs": [
    {
     "data": {
      "text/plain": [
       "\"Let's Code by Ada Tech2\""
      ]
     },
     "execution_count": 121,
     "metadata": {},
     "output_type": "execute_result"
    }
   ],
   "source": [
    "numero = 2\n",
    "\n",
    "frase + str(numero)"
   ]
  },
  {
   "cell_type": "code",
   "execution_count": 130,
   "id": "7a4f73c4",
   "metadata": {},
   "outputs": [
    {
     "name": "stdout",
     "output_type": "stream",
     "text": [
      "A minha idade é 22 anos e minha altura é 1.67 metros\n"
     ]
    }
   ],
   "source": [
    "idade = 22\n",
    "altura = 1.67\n",
    "\n",
    "nova_frase = 'A minha idade é ' + str(idade) + ' anos e minha altura é ' + str(altura) + ' metros'\n",
    "\n",
    "print(nova_frase)"
   ]
  },
  {
   "cell_type": "markdown",
   "id": "1bfd62a8",
   "metadata": {},
   "source": [
    "Vimos mais uma forma de manipular strings (+). Lembrando que já vimos o print com vírgula, com format e com f-strings"
   ]
  },
  {
   "cell_type": "markdown",
   "id": "2c77d318",
   "metadata": {},
   "source": [
    "* : repetir a string n vezes"
   ]
  },
  {
   "cell_type": "code",
   "execution_count": 131,
   "id": "0fb91a94",
   "metadata": {},
   "outputs": [
    {
     "data": {
      "text/plain": [
       "'textotextotexto'"
      ]
     },
     "execution_count": 131,
     "metadata": {},
     "output_type": "execute_result"
    }
   ],
   "source": [
    "string1 = 'texto'\n",
    "\n",
    "string1 * 3"
   ]
  },
  {
   "cell_type": "code",
   "execution_count": 132,
   "id": "b54c01e7",
   "metadata": {},
   "outputs": [
    {
     "data": {
      "text/plain": [
       "'00000000000000000000'"
      ]
     },
     "execution_count": 132,
     "metadata": {},
     "output_type": "execute_result"
    }
   ],
   "source": [
    "'0' * 20 # criando uma string/texto com 20 zeros"
   ]
  },
  {
   "cell_type": "code",
   "execution_count": 133,
   "id": "d409c96f",
   "metadata": {},
   "outputs": [
    {
     "name": "stdout",
     "output_type": "stream",
     "text": [
      "100000000000000000000\n",
      "<class 'str'>\n"
     ]
    }
   ],
   "source": [
    "var1 = '1' + '0' * 20\n",
    "\n",
    "print(var1)\n",
    "print(type(var1))"
   ]
  },
  {
   "cell_type": "code",
   "execution_count": 134,
   "id": "757447d1",
   "metadata": {},
   "outputs": [
    {
     "name": "stdout",
     "output_type": "stream",
     "text": [
      "100000000000000000000\n",
      "<class 'int'>\n"
     ]
    }
   ],
   "source": [
    "var1 = int(var1)\n",
    "\n",
    "print(var1)\n",
    "print(type(var1))"
   ]
  },
  {
   "cell_type": "markdown",
   "id": "b6ed40d2",
   "metadata": {},
   "source": [
    "- Copiar uma string através do operador de concatenar\n",
    "\n",
    "```python\n",
    "soma = 0\n",
    "for numero in lista:\n",
    "    soma = soma + numero\n",
    "```"
   ]
  },
  {
   "cell_type": "code",
   "execution_count": 139,
   "id": "78185f1d",
   "metadata": {},
   "outputs": [
    {
     "name": "stdout",
     "output_type": "stream",
     "text": [
      "letra:  M\n",
      "string_final \n",
      "string_final M\n",
      "mais uma rodada\n",
      "\n",
      "letra:  u\n",
      "string_final M\n",
      "string_final Mu\n",
      "mais uma rodada\n",
      "\n",
      "letra:  n\n",
      "string_final Mu\n",
      "string_final Mun\n",
      "mais uma rodada\n",
      "\n",
      "letra:  d\n",
      "string_final Mun\n",
      "string_final Mund\n",
      "mais uma rodada\n",
      "\n",
      "letra:  o\n",
      "string_final Mund\n",
      "string_final Mundo\n",
      "mais uma rodada\n",
      "\n"
     ]
    }
   ],
   "source": [
    "#usando a mesma lógica\n",
    "\n",
    "string_inicial = 'Mundo'\n",
    "string_final = '' # iniciando uma variável com o valor string vazio\n",
    "\n",
    "for letra in string_inicial:\n",
    "    print('letra: ', letra)\n",
    "    print('string_final', string_final)\n",
    "    \n",
    "    string_final = string_final + letra\n",
    "    \n",
    "    print('string_final', string_final)\n",
    "    print('mais uma rodada\\n')"
   ]
  },
  {
   "cell_type": "markdown",
   "id": "e9069384",
   "metadata": {},
   "source": [
    "- Transformando uma string em lista"
   ]
  },
  {
   "cell_type": "code",
   "execution_count": 140,
   "id": "df4f10d1",
   "metadata": {},
   "outputs": [
    {
     "data": {
      "text/plain": [
       "['t', 'e', 'x', 't', 'o']"
      ]
     },
     "execution_count": 140,
     "metadata": {},
     "output_type": "execute_result"
    }
   ],
   "source": [
    "frase = 'texto'\n",
    "\n",
    "list(frase) # transforma string em lista"
   ]
  },
  {
   "cell_type": "code",
   "execution_count": 144,
   "id": "e872216d",
   "metadata": {},
   "outputs": [
    {
     "data": {
      "text/plain": [
       "['t', 'e', 'x', 't', 'o']"
      ]
     },
     "execution_count": 144,
     "metadata": {},
     "output_type": "execute_result"
    }
   ],
   "source": [
    "lista_frase = list(frase)\n",
    "lista_frase"
   ]
  },
  {
   "cell_type": "code",
   "execution_count": 151,
   "id": "acdf01ec",
   "metadata": {},
   "outputs": [
    {
     "name": "stdout",
     "output_type": "stream",
     "text": [
      "['T', 'e', 'x', 't', 'o']\n"
     ]
    }
   ],
   "source": [
    "# na lista consigo alterar a letra 't' por 'T'?\n",
    "\n",
    "lista_frase[0] = 'T'\n",
    "\n",
    "print(lista_frase)"
   ]
  },
  {
   "cell_type": "code",
   "execution_count": 152,
   "id": "0c5176ae",
   "metadata": {},
   "outputs": [
    {
     "data": {
      "text/plain": [
       "'texto'"
      ]
     },
     "execution_count": 152,
     "metadata": {},
     "output_type": "execute_result"
    }
   ],
   "source": [
    "frase"
   ]
  },
  {
   "cell_type": "code",
   "execution_count": 153,
   "id": "3d53f59c",
   "metadata": {},
   "outputs": [
    {
     "ename": "TypeError",
     "evalue": "'str' object does not support item assignment",
     "output_type": "error",
     "traceback": [
      "\u001b[1;31m---------------------------------------------------------------------------\u001b[0m",
      "\u001b[1;31mTypeError\u001b[0m                                 Traceback (most recent call last)",
      "Cell \u001b[1;32mIn[153], line 1\u001b[0m\n\u001b[1;32m----> 1\u001b[0m \u001b[43mfrase\u001b[49m\u001b[43m[\u001b[49m\u001b[38;5;241;43m0\u001b[39;49m\u001b[43m]\u001b[49m \u001b[38;5;241m=\u001b[39m \u001b[38;5;124m'\u001b[39m\u001b[38;5;124mT\u001b[39m\u001b[38;5;124m'\u001b[39m\n",
      "\u001b[1;31mTypeError\u001b[0m: 'str' object does not support item assignment"
     ]
    }
   ],
   "source": [
    "frase[0] = 'T'"
   ]
  },
  {
   "cell_type": "code",
   "execution_count": null,
   "id": "8fbf5232",
   "metadata": {},
   "outputs": [],
   "source": []
  },
  {
   "cell_type": "code",
   "execution_count": null,
   "id": "a5143975",
   "metadata": {},
   "outputs": [],
   "source": []
  }
 ],
 "metadata": {
  "kernelspec": {
   "display_name": "Python 3 (ipykernel)",
   "language": "python",
   "name": "python3"
  },
  "language_info": {
   "codemirror_mode": {
    "name": "ipython",
    "version": 3
   },
   "file_extension": ".py",
   "mimetype": "text/x-python",
   "name": "python",
   "nbconvert_exporter": "python",
   "pygments_lexer": "ipython3",
   "version": "3.10.9"
  }
 },
 "nbformat": 4,
 "nbformat_minor": 5
}
