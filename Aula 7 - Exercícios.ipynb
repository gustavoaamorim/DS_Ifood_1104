{
 "cells": [
  {
   "cell_type": "markdown",
   "id": "528b0837",
   "metadata": {},
   "source": [
    "# Exercícios desafiadores"
   ]
  },
  {
   "cell_type": "markdown",
   "id": "c1444f77",
   "metadata": {},
   "source": [
    "1) Faça um programa que pede para o usuário digitar o CPF e verifica se ele é válido. \n",
    "\n",
    "Para isso, primeiramente o programa deve multiplicar cada um dos 9 primeiros dígitos do CPF pelos números de 10 a 2 e somar todas as respostas. \n",
    "O resultado deve ser multiplicado por 10 e dividido por 11. \n",
    "O resto dessa divisão deve ser igual ao primeiro dígito verificador (10º dígito). \n",
    "Em seguida, o programa deve multiplicar cada um dos 10 primeiros dígitos do CPF pelos números de 11 a 2 e repetir o procedimento anterior para verificar o segundo dígito verificador.\n",
    "\n",
    "Exemplo:\n",
    "Se o CPF for 286.255.878-87 o programa deve fazer primeiro:\n",
    "\n",
    "x = (2\\*10 + 8\\*9 + 6\\*8 + 2\\*7 + 5\\*6 + 5\\*5 + 8\\*4 + 7\\*3 + 8\\*2).\n",
    "\n",
    "Em seguida o programa deve testar se x*10%11 == 8 (o décimo número do CPF).\n",
    "\n",
    "Se sim, o programa deve calcular x = (2\\*11 + 8\\*10 + 6\\*9 + 2\\*8 + 5\\*7 + 5\\*6 + 8\\*5 + 7\\*4 + 8\\*3 + 8\\*2) e verificar se x*10%11 == 7 (o décimo primeiro número do CPF) "
   ]
  },
  {
   "cell_type": "code",
   "execution_count": 4,
   "id": "4d6c8616",
   "metadata": {},
   "outputs": [
    {
     "name": "stdout",
     "output_type": "stream",
     "text": [
      "Digite o CPF: 28625587887\n"
     ]
    }
   ],
   "source": [
    "n_cpf = list(input(\"Digite o CPF: \"))\n",
    "\n",
    "# list(input(\"Digite o CPF: \").replace('.',\"\").replace('-',\"\"))"
   ]
  },
  {
   "cell_type": "code",
   "execution_count": 6,
   "id": "2413315a",
   "metadata": {},
   "outputs": [],
   "source": [
    "lista_cpf = []\n",
    "for item in n_cpf:\n",
    "    lista_cpf.append(float(item))"
   ]
  },
  {
   "cell_type": "code",
   "execution_count": 7,
   "id": "8f4643bf",
   "metadata": {},
   "outputs": [
    {
     "data": {
      "text/plain": [
       "[2.0, 8.0, 6.0, 2.0, 5.0, 5.0, 8.0, 7.0, 8.0, 8.0, 7.0]"
      ]
     },
     "execution_count": 7,
     "metadata": {},
     "output_type": "execute_result"
    }
   ],
   "source": [
    "lista_cpf"
   ]
  },
  {
   "cell_type": "markdown",
   "id": "98e7c904",
   "metadata": {},
   "source": [
    "---"
   ]
  },
  {
   "cell_type": "markdown",
   "id": "7cb85c82",
   "metadata": {},
   "source": [
    "2) Faça um jogo de BlackJack usando funções: o BlackJack, ou Vinte e Um, é um jogo em que os jogadores podem comprar cartas livremente, enquanto tiverem menos de 21 pontos. No nosso jogo, o Ás vale um ponto; as cartas de 2 a 10 valem o número de pontos que elas representam; e Valete, Dama e Rei valem 10 pontos cada. Ganha o jogador que tiver o maior número de pontos, desde que este seja menor ou igual a 21. Nosso jogo deve ter as seguintes funções:\n",
    "\n",
    "a. Função principal: a função que vamos chamar para iniciar o jogo. Essa função não irá receber nem retornar nenhuma variável. Ela deve perguntar o número de jogadores participantes e o nome de cada um. Em seguida ela chama as outras funções do jogo.\n",
    "\n",
    "b. Função para criar o baralho: essa função deve criar um baralho (uma lista) com as cartas do baralho. \n",
    "\n",
    "c. Função para a jogada: essa função deve receber o nome do jogador que irá realizar a jogada e, caso ele ainda esteja ativo (tenha menos de 21 pontos e ainda não tenha desistido de comprar cartas) deve perguntar se ele quer comprar uma carta. Se ele responder que sim, a função deve chamar a próxima função para sortear uma carta e somar o valor retornado na pontuação do jogador; se ele responder que não, a função deve desativar o jogador para que ele não possa mais comprar cartas; Essa função só deve ser chamada enquanto houver jogadores ativos.\n",
    "\n",
    "d. Função para o sorteio: essa função retira uma carta aleatória do baralho e retorna o número de pontos que essa carta vale.\n",
    "\n",
    "e. Função verificação: verifica e indica qual/quais jogador/jogadores tem o maior número de pontos, que seja menor ou igual a 21. \n"
   ]
  },
  {
   "cell_type": "markdown",
   "id": "726f0c7c",
   "metadata": {},
   "source": [
    "---"
   ]
  },
  {
   "cell_type": "markdown",
   "id": "979d3184",
   "metadata": {},
   "source": [
    "3) Você está trabalhando na construção de um sistema para cadastro de adoção de animais, e pretende criar fichas para cada um desses animais, de acordo com as informações recebidas de pessoas que os resgataram. Crie uma função que gere um cadastro para o animal. O cadastro deve obrigatoriamente conter o nome e o tipo de animal (cachorro, gato, etc), mas outras características também podem ser aceitas, como Idade, se já é vermifugado, etc. Essas informações tratadas serão enviadas para a função generate_card, que aceita todos os parâmetros escolhidos para a composição do cadastro."
   ]
  },
  {
   "cell_type": "code",
   "execution_count": null,
   "id": "6f0d1f3e",
   "metadata": {},
   "outputs": [],
   "source": []
  }
 ],
 "metadata": {
  "kernelspec": {
   "display_name": "Python 3 (ipykernel)",
   "language": "python",
   "name": "python3"
  },
  "language_info": {
   "codemirror_mode": {
    "name": "ipython",
    "version": 3
   },
   "file_extension": ".py",
   "mimetype": "text/x-python",
   "name": "python",
   "nbconvert_exporter": "python",
   "pygments_lexer": "ipython3",
   "version": "3.10.9"
  }
 },
 "nbformat": 4,
 "nbformat_minor": 5
}
