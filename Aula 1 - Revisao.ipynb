{
 "cells": [
  {
   "cell_type": "markdown",
   "id": "45bf18d6",
   "metadata": {},
   "source": [
    "# Introdução"
   ]
  },
  {
   "cell_type": "markdown",
   "id": "a0c3b144",
   "metadata": {},
   "source": [
    "### IDE\n",
    "\n",
    "Uma IDE é a sigla para Integrated Development Environment e designa um software que reúne ferramentas comuns de desenvolvedor em uma única interface gráfica do usuário (GUI).\n",
    "\n",
    "Visual Studio Code - Extensão Jupyter  \n",
    "PyCharm - Cuidado ao usar\n",
    "\n",
    "Colab google - https://colab.research.google.com/\n",
    "\n",
    "Deep note - https://deepnote.com/\n",
    "\n",
    "JupyterLite - https://jupyter.org/try\n",
    "\n",
    "Kaggle Kernels - https://www.kaggle.com/\n",
    "\n",
    "Diversas opções:\n",
    "\n",
    "https://cocalc.com/features/jupyter-notebook  \n",
    "https://www.codingrooms.com/compiler/jupyter-notebook   \n",
    "https://mybinder.org/"
   ]
  },
  {
   "cell_type": "markdown",
   "id": "9cfb3324",
   "metadata": {},
   "source": [
    "**Jupyter**\n",
    "\n",
    "Os notebooks são uma forma de programação literária (documentação seja escrita como uma narrativa junto ao código em vez de ser uma coisa independente).\n",
    "\n",
    "O ponto central é o servidor do notebook. A conexão é feita no servidor por seu navegador e o notebook é carregado como um aplicativo web. O código escrito nesse aplicativo é mandado pelo servidor para o núcleo. O núcleo roda o código e o manda de volta para o servidor, então, o output é carregado no navegador. Ao salvar um notebook, ele é escrito no servidor como um arquivo JSON com a extensão .ipynb. O novo nome, Jupyter, vem da combinação dos nomes Julia, Python e R. Outra vantagem é que o servidor pode ser rodado e acessado via Internet. Normalmente, você rodará o servidor em sua própria máquina, onde todos os dados e arquivos notebook estão salvos. Mas, é possível também configurar um servidor em uma máquina remota ou instância de nuvem, como a EC2, da Amazon. Então, você pode acessar os notebooks em um navegador de qualquer lugar do planeta."
   ]
  },
  {
   "cell_type": "markdown",
   "id": "bd00d36d",
   "metadata": {},
   "source": [
    "**jupyter notebook**\n",
    "\n",
    "[Links](https://ada.tech/)\n",
    "\n",
    "_Enfase_: Para itálico, inicie e termine o texto com um asterisco ou sublinhado, _gelato_ ou *gelato* geram gelato. Texto em **negrito** usa dois símbolos, abacate ou abacate geram abacate. **Código**\n",
    "\n",
    "Existem duas maneiras diferentes de mostrar código, dentro do texto ou como um bloco de código separado do texto. Para o formato dentro do texto, insira acentos graves antes e depois do código. Por exemplo, string.punctuation gera string.punctuation. Expressões matemáticas É possível criar expressões matemáticas em células markdown usando os símbolos do LaTeX\n",
    "\n",
    "```python\n",
    "if i in range(10):\n",
    "    print(i)\n",
    "```\n",
    "\n",
    "Cheat sheet: https://github.com/adam-p/markdown-here/wiki/Markdown-Cheatsheet\n",
    "\n",
    "Dica para melhores práticas de estilo no python\n",
    "\n",
    "https://peps.python.org/pep-0008/"
   ]
  },
  {
   "cell_type": "code",
   "execution_count": 1,
   "id": "c7ccfc00",
   "metadata": {},
   "outputs": [
    {
     "data": {
      "text/plain": [
       "2"
      ]
     },
     "execution_count": 1,
     "metadata": {},
     "output_type": "execute_result"
    }
   ],
   "source": [
    "1+1"
   ]
  },
  {
   "cell_type": "code",
   "execution_count": 3,
   "id": "d6831a77",
   "metadata": {},
   "outputs": [
    {
     "data": {
      "text/plain": [
       "2"
      ]
     },
     "execution_count": 3,
     "metadata": {},
     "output_type": "execute_result"
    }
   ],
   "source": [
    "1 + 1 #usando o stilo do pep8"
   ]
  },
  {
   "cell_type": "markdown",
   "id": "7de4b40e",
   "metadata": {},
   "source": [
    "# Variáveis, entradas e saídas"
   ]
  },
  {
   "cell_type": "code",
   "execution_count": 4,
   "id": "cc23f555",
   "metadata": {},
   "outputs": [],
   "source": [
    "x = 20"
   ]
  },
  {
   "cell_type": "markdown",
   "id": "d7e8d7bd",
   "metadata": {},
   "source": [
    "**x** é a variável  \n",
    "**20** é o dado armazenado na variável  \n",
    "**=** operador de atribuição"
   ]
  },
  {
   "cell_type": "code",
   "execution_count": 5,
   "id": "f3e9bc49",
   "metadata": {},
   "outputs": [],
   "source": [
    "y = \"Renata\""
   ]
  },
  {
   "cell_type": "markdown",
   "id": "f02a36af",
   "metadata": {},
   "source": [
    "**y** é a variável  \n",
    "**Renata** é o dado armazenado na variável  \n",
    "**=** operador de atribuição"
   ]
  },
  {
   "cell_type": "markdown",
   "id": "d01fde75",
   "metadata": {},
   "source": [
    "**Tipos de variáveis**\n",
    "\n",
    "- int: números inteiros, ou seja, números sem parte decimal: 0, 5, -1, 1000\n",
    "- float: números reais, ou seja, números com parte decimal: 1.0, -2.7, 3.14\n",
    "- str: cadeias de caracteres (strings), ou seja, dados textuais: 'Olá Mundo!', \"eu tenho 18 anos\"\n",
    "- bool: valores lógicos (booleanos), ou seja, apenas um entre dois valores possíveis: True ou False"
   ]
  },
  {
   "cell_type": "code",
   "execution_count": 8,
   "id": "2b0eb2fb",
   "metadata": {},
   "outputs": [
    {
     "data": {
      "text/plain": [
       "'\\nQuero \\ncomentar\\nessas\\n4 linhas\\n'"
      ]
     },
     "execution_count": 8,
     "metadata": {},
     "output_type": "execute_result"
    }
   ],
   "source": [
    "# Como faço para comentar uma linha no python?\n",
    "\n",
    "# Quero \n",
    "# comentar\n",
    "# essas\n",
    "# 4 linhas\n",
    "\n",
    "'''\n",
    "Quero \n",
    "comentar\n",
    "essas\n",
    "4 linhas\n",
    "'''"
   ]
  },
  {
   "cell_type": "code",
   "execution_count": 39,
   "id": "2d80aa43",
   "metadata": {},
   "outputs": [
    {
     "name": "stdout",
     "output_type": "stream",
     "text": [
      "Olá turma 1104\n",
      "Oi, meu nome é Renata, tenho 23 anos e adoro ler\n",
      "Oi, meu nome é Renata, tenho 23 anos e adoro ler\n",
      "Oi, meu nome é Renata tenho  23 anos e adoro ler\n",
      "->;Renata;23;ler.\n",
      "\n",
      "→  Renata  23  ler.\n",
      "\n",
      "→->Renata->23->ler\n",
      "1.1666666666666667\n",
      "\n",
      "\n",
      "1.17\n",
      "1.167\n",
      "1.17\n"
     ]
    }
   ],
   "source": [
    "# SAÍDA\n",
    "\n",
    "print(\"Olá turma 1104\")\n",
    "\n",
    "\n",
    "nome = 'Renata'\n",
    "idade = 23\n",
    "hobby = \"ler\"\n",
    "\n",
    "print(\"Oi, meu nome é {}, tenho {} anos e adoro {}\".format(nome, idade, hobby))\n",
    "print(f\"Oi, meu nome é {nome}, tenho {idade} anos e adoro {hobby}\")\n",
    "print(\"Oi, meu nome é\",nome,  \"tenho \", idade, \"anos e adoro\",hobby)\n",
    "\n",
    "print(\"->\", nome, idade, hobby, sep=\";\", end='.')\n",
    "print(\"\\n\") #pular linha\n",
    "\n",
    "print( '\\u2192',nome, idade, hobby, sep=\"  \", end='.')\n",
    "print(\"\\n\") #pular linha\n",
    "print( '\\u2192',nome, idade, hobby, sep=\"->\", end='\\n')\n",
    "\n",
    "print(7/6)\n",
    "\n",
    "print(\"\\n\") #pular linha\n",
    "\n",
    "print(round(7/6,2)) #round arrendonda nas casas decimais que vc definir\n",
    "\n",
    "print(f\"{7/6:.3f}\")\n",
    "\n",
    "print(\"{:.2f}\".format(7/6))"
   ]
  },
  {
   "cell_type": "markdown",
   "id": "6b1ddc97",
   "metadata": {},
   "source": [
    "**Operadores**\n",
    "- Soma: +\n",
    "- Subtração: -\n",
    "- Multiplicação: *\n",
    "- Divisão: /\n",
    "- Divisão inteira: //\n",
    "- Resto da divisão: %\n",
    "- Potência: **\n",
    "\n",
    "\n",
    "**Operadores lógicos**\n",
    "*Operadores Booleanos*\n",
    "\n",
    "- Maior que: >\n",
    "- Maior ou igual: >=\n",
    "- Menor que: <\n",
    "- Menor ou igual: <=\n",
    "- Igual: ==\n",
    "- Diferente: !=\n",
    "\n",
    "\n",
    "**Operadores lógicos**\n",
    "\n",
    "|     Operador    |                            Definição                           |     Operação    |\n",
    "|:---------------:|:--------------------------------------------------------------:|:---------------:|\n",
    "|        and      |     Retorna   True se ambas as afirmações forem verdadeiras    |         e       |\n",
    "|        or       |       Retorna   True se uma das afirmações for verdadeira      |        ou       |\n",
    "|        not      |          retorna   Falso se o resultado for verdadeiro         |        não      |\n",
    "\n",
    "\n",
    "**AND** é uma conjunção lógica e o **OR** é uma disjunção lógica. O **not** é a negação lógica.\n",
    "\n",
    "| *A*   | *B*   | *A and B* | *A or B* | *not A* |\n",
    "|-------|-------|-----------|----------|---------|\n",
    "| False | False | False     | False    | True    |\n",
    "| False | True  | False     | True     | True    |\n",
    "| True  | False | False     | True     | False   |\n",
    "| True  | True  | True      | True     | False   |\n"
   ]
  },
  {
   "cell_type": "markdown",
   "id": "32d87b83",
   "metadata": {},
   "source": [
    "# Expressões condicionais"
   ]
  },
  {
   "cell_type": "markdown",
   "id": "8cd0ec41",
   "metadata": {},
   "source": [
    "Formatação do if-else\n",
    "\n",
    "```python\n",
    "\n",
    "if condicao(comparação) :\n",
    "    to do (se for verdadeiro)\n",
    "else:\n",
    "    to do (caso contrario)\n",
    "\n",
    "```\n",
    "\n",
    "Aninhando as condições\n",
    "\n",
    "\n",
    "```python\n",
    "if condicao :\n",
    "    to do\n",
    "else:\n",
    "    if condicao:\n",
    "    else:\n",
    "        if condicao:\n",
    "            else:\n",
    "                if condicao:\n",
    "                    else:\n",
    "\n",
    "```\n",
    "\n",
    "Formatação com if-elif-else\n",
    "\n",
    "```python\n",
    "if condicao :\n",
    "    to do\n",
    "elif condicao:\n",
    "    to do\n",
    "elif condicaoo:\n",
    "     to do\n",
    "else:\n",
    "\n",
    "```"
   ]
  },
  {
   "cell_type": "code",
   "execution_count": 44,
   "id": "3da77499",
   "metadata": {},
   "outputs": [
    {
     "name": "stdout",
     "output_type": "stream",
     "text": [
      "Digite a média do aluno: 5\n",
      "Aluno em recuperação\n"
     ]
    }
   ],
   "source": [
    "# Aluno é aprovado com média 6\n",
    "# aluno em recuperação com média entre 3 e 5.9\n",
    "# Abaixo de 3 está reprovado\n",
    "\n",
    "\n",
    "media = input(\"Digite a média do aluno: \")\n",
    "\n",
    "nova_media = float(media)\n",
    "\n",
    "if nova_media >= 6: #se o aluno tem média acima de 6\n",
    "    print('Aluno aprovado')\n",
    "elif nova_media >= 3:\n",
    "    print(\"Aluno em recuperação\")\n",
    "else:\n",
    "    print('Aluno reprovado')\n",
    "    \n"
   ]
  },
  {
   "attachments": {
    "image.png": {
     "image/png": "[encoded data removed]"
    }
   },
   "cell_type": "markdown",
   "id": "597a85cf",
   "metadata": {},
   "source": [
    "![image.png](attachment:image.png)"
   ]
  },
  {
   "cell_type": "markdown",
   "id": "8415076e",
   "metadata": {},
   "source": [
    "**Malhas de repetição**"
   ]
  },
  {
   "cell_type": "code",
   "execution_count": 46,
   "id": "224d849e",
   "metadata": {},
   "outputs": [
    {
     "name": "stdout",
     "output_type": "stream",
     "text": [
      "1\n",
      "2\n",
      "3\n"
     ]
    }
   ],
   "source": [
    "print(1)\n",
    "print(2)\n",
    "print(3)"
   ]
  },
  {
   "cell_type": "markdown",
   "id": "b61c0961",
   "metadata": {},
   "source": [
    "## While\n",
    "\n",
    "A estrutura é essa (por enquanto):\n",
    "\n",
    "```python\n",
    "while (condicao é verdadeira): # condição\n",
    "    to do  # só executa se a condição for verdadeira\n",
    "\n",
    "```  \n"
   ]
  },
  {
   "cell_type": "code",
   "execution_count": 47,
   "id": "5bf4be10",
   "metadata": {},
   "outputs": [
    {
     "name": "stdout",
     "output_type": "stream",
     "text": [
      "0\n",
      "1\n",
      "2\n",
      "3\n",
      "4\n",
      "5\n",
      "6\n",
      "7\n",
      "8\n",
      "9\n",
      "10\n",
      "11\n",
      "12\n",
      "13\n",
      "14\n",
      "15\n",
      "16\n",
      "17\n",
      "18\n",
      "19\n",
      "20\n",
      "21\n",
      "22\n",
      "23\n",
      "24\n",
      "25\n",
      "26\n",
      "27\n",
      "28\n",
      "29\n",
      "30\n",
      "31\n",
      "32\n",
      "33\n",
      "34\n",
      "35\n",
      "36\n",
      "37\n",
      "38\n",
      "39\n",
      "40\n",
      "41\n",
      "42\n",
      "43\n",
      "44\n",
      "45\n",
      "46\n",
      "47\n",
      "48\n",
      "49\n",
      "50\n",
      "51\n",
      "52\n",
      "53\n",
      "54\n",
      "55\n",
      "56\n",
      "57\n",
      "58\n",
      "59\n",
      "60\n",
      "61\n",
      "62\n",
      "63\n",
      "64\n",
      "65\n",
      "66\n",
      "67\n",
      "68\n",
      "69\n",
      "70\n",
      "71\n",
      "72\n",
      "73\n",
      "74\n",
      "75\n",
      "76\n",
      "77\n",
      "78\n",
      "79\n",
      "80\n",
      "81\n",
      "82\n",
      "83\n",
      "84\n",
      "85\n",
      "86\n",
      "87\n",
      "88\n",
      "89\n",
      "90\n",
      "91\n",
      "92\n",
      "93\n",
      "94\n",
      "95\n",
      "96\n",
      "97\n",
      "98\n",
      "99\n",
      "100\n"
     ]
    }
   ],
   "source": [
    "contador = 0\n",
    "\n",
    "while contador <= 100:\n",
    "    print(contador)\n",
    "    contador += 1 # contador = contador + 1"
   ]
  },
  {
   "cell_type": "markdown",
   "id": "2b650f06",
   "metadata": {},
   "source": [
    "### *********************** CUIDADO **********************\n",
    "Exemplo acima pode entrar em looping se não incrementar o contador!!! LOOP INFINITO\n",
    "\n",
    "WHILE PRECISA DE UMA CONDIÇÃO DE PARADA"
   ]
  },
  {
   "cell_type": "code",
   "execution_count": 55,
   "id": "f01bd361",
   "metadata": {},
   "outputs": [
    {
     "name": "stdout",
     "output_type": "stream",
     "text": [
      "0\n",
      "10\n",
      "20\n",
      "30\n",
      "40\n",
      "50\n",
      "60\n",
      "70\n",
      "80\n",
      "90\n",
      "100\n"
     ]
    }
   ],
   "source": [
    "contador = 0\n",
    "\n",
    "while contador <= 100:\n",
    "    if contador % 10 == 0 : # o resto da divisão é zero?\n",
    "        print(contador) # número\n",
    "    contador += 1 # contador = contador + 1"
   ]
  },
  {
   "cell_type": "markdown",
   "id": "ab03bad2",
   "metadata": {},
   "source": [
    "NO PYTHON O PRIMEIRO VALOR SEMPRE É **ZERO**"
   ]
  },
  {
   "cell_type": "markdown",
   "id": "be9e8a5d",
   "metadata": {},
   "source": [
    "```python\n",
    "for item in sequencia:\n",
    "    to do\n",
    "```"
   ]
  },
  {
   "cell_type": "markdown",
   "id": "cbed96ea",
   "metadata": {},
   "source": [
    "https://docs.python.org/3/library/functions.html#func-range"
   ]
  },
  {
   "cell_type": "code",
   "execution_count": null,
   "id": "fe53cb3a",
   "metadata": {},
   "outputs": [],
   "source": [
    "class range(stop)\n",
    "class range(start, stop, step=1)"
   ]
  },
  {
   "cell_type": "code",
   "execution_count": 58,
   "id": "5e712c11",
   "metadata": {},
   "outputs": [
    {
     "data": {
      "text/plain": [
       "range(0, 5)"
      ]
     },
     "execution_count": 58,
     "metadata": {},
     "output_type": "execute_result"
    }
   ],
   "source": [
    "range(5) # 0,1,2,3,4\n",
    "\n",
    "range(0, 5, 2) # 0, 2, 4"
   ]
  },
  {
   "cell_type": "code",
   "execution_count": 59,
   "id": "2bf118c5",
   "metadata": {},
   "outputs": [
    {
     "name": "stdout",
     "output_type": "stream",
     "text": [
      "0\n",
      "2\n",
      "4\n"
     ]
    }
   ],
   "source": [
    "for item in range(0,5,2):\n",
    "    print(item)"
   ]
  },
  {
   "cell_type": "code",
   "execution_count": null,
   "id": "6bf62b3a",
   "metadata": {},
   "outputs": [],
   "source": [
    "# for percorre uma sequencia: lista, tupla, um dicionário, uma string"
   ]
  },
  {
   "cell_type": "code",
   "execution_count": 60,
   "id": "1426c770",
   "metadata": {},
   "outputs": [
    {
     "name": "stdout",
     "output_type": "stream",
     "text": [
      "0\n",
      "1\n",
      "2\n",
      "3\n",
      "4\n",
      "5\n",
      "6\n",
      "7\n",
      "8\n",
      "9\n"
     ]
    }
   ],
   "source": [
    "for contador in range(10):\n",
    "    print(contador) # repetir 10 linhas"
   ]
  },
  {
   "cell_type": "code",
   "execution_count": 61,
   "id": "46a688f8",
   "metadata": {},
   "outputs": [
    {
     "name": "stdout",
     "output_type": "stream",
     "text": [
      "9\n"
     ]
    }
   ],
   "source": [
    "print(contador)"
   ]
  },
  {
   "cell_type": "markdown",
   "id": "152df03a",
   "metadata": {},
   "source": [
    "# Alguns comandos de manipulação de fluxo\n",
    "\n",
    "Comando **break**: Utilizado para interromper a execução de um laço (for ou while) antes que ele termine normalmente.\n",
    "\n",
    "```python\n",
    "for item in sequencia:\n",
    "    if condicao:\n",
    "        break\n",
    "```\n",
    "\n",
    "Comando **continue**: Utilizado para pular a iteração atual de um laço e continuar com a próxima iteração.\n",
    "\n",
    "\n",
    "```python\n",
    "for item in sequencia:\n",
    "    if condicao:\n",
    "        continue\n",
    "    # O código aqui será executado apenas se a condição for falsa\n",
    "```\n",
    "   \n",
    "Comando **pass**: É usado como espaço reservado para código futuro. Não faz nada e é frequentemente usado para evitar erros de sintaxe em blocos vazios.\n",
    "\n",
    "```python\n",
    "if condicao:\n",
    "    pass  # código será adicionado posteriormente\n",
    "\n",
    "```"
   ]
  }
 ],
 "metadata": {
  "kernelspec": {
   "display_name": "Python 3 (ipykernel)",
   "language": "python",
   "name": "python3"
  },
  "language_info": {
   "codemirror_mode": {
    "name": "ipython",
    "version": 3
   },
   "file_extension": ".py",
   "mimetype": "text/x-python",
   "name": "python",
   "nbconvert_exporter": "python",
   "pygments_lexer": "ipython3",
   "version": "3.10.9"
  }
 },
 "nbformat": 4,
 "nbformat_minor": 5
}
