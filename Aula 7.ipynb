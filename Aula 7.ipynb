{
 "cells": [
  {
   "cell_type": "markdown",
   "id": "d272fe45",
   "metadata": {},
   "source": [
    "# Usando pacotes de terceiros"
   ]
  },
  {
   "cell_type": "code",
   "execution_count": 10,
   "id": "2332e03b",
   "metadata": {},
   "outputs": [],
   "source": [
    "# Calcular o fatorial de 5 => 5*4*3*2*1\n",
    "\n",
    "def funcao_fatorial(num):\n",
    "    fatorial = 1\n",
    "    if num < 0:\n",
    "        return print(\"Não existe fatorial de número negativo\")\n",
    "    elif num == 0:\n",
    "        return print(\"O fatorial de 0 é 1\")\n",
    "    else:\n",
    "        for c in range(num,0,-1):\n",
    "            fatorial = fatorial * c # 5*1 => 4 * 5 => 3 * 4*5 => 2*3*4*5 => 1*2*3*4*5\n",
    "        return print(f\"O fatorial de {num} é {fatorial}\")"
   ]
  },
  {
   "cell_type": "code",
   "execution_count": 12,
   "id": "ea738fc0",
   "metadata": {},
   "outputs": [
    {
     "name": "stdout",
     "output_type": "stream",
     "text": [
      "O fatorial de 5 é 120\n"
     ]
    }
   ],
   "source": [
    "funcao_fatorial(5)"
   ]
  },
  {
   "cell_type": "code",
   "execution_count": 13,
   "id": "1ee18bb8",
   "metadata": {},
   "outputs": [
    {
     "name": "stdout",
     "output_type": "stream",
     "text": [
      "O fatorial de 10 é 3628800\n"
     ]
    }
   ],
   "source": [
    "funcao_fatorial(10)"
   ]
  },
  {
   "cell_type": "code",
   "execution_count": 14,
   "id": "a2c3041b",
   "metadata": {},
   "outputs": [
    {
     "name": "stdout",
     "output_type": "stream",
     "text": [
      "O fatorial de 0 é 1\n"
     ]
    }
   ],
   "source": [
    "funcao_fatorial(0)"
   ]
  },
  {
   "cell_type": "code",
   "execution_count": 15,
   "id": "8610a3f7",
   "metadata": {},
   "outputs": [
    {
     "name": "stdout",
     "output_type": "stream",
     "text": [
      "Não existe fatorial de número negativo\n"
     ]
    }
   ],
   "source": [
    "funcao_fatorial(-10)"
   ]
  },
  {
   "cell_type": "markdown",
   "id": "0643ef71",
   "metadata": {},
   "source": [
    "Nessa lib/modulo/biblioteca, tem a função fatorial já implementada\n",
    "\n",
    "\n",
    "https://docs.python.org/3/library/math.html"
   ]
  },
  {
   "cell_type": "code",
   "execution_count": 16,
   "id": "fda4ccc0",
   "metadata": {},
   "outputs": [],
   "source": [
    "import math  # importando a biblioteca"
   ]
  },
  {
   "cell_type": "code",
   "execution_count": 17,
   "id": "a3ca9773",
   "metadata": {},
   "outputs": [
    {
     "data": {
      "text/plain": [
       "120"
      ]
     },
     "execution_count": 17,
     "metadata": {},
     "output_type": "execute_result"
    }
   ],
   "source": [
    "math.factorial(5)"
   ]
  },
  {
   "cell_type": "code",
   "execution_count": 18,
   "id": "fe570f99",
   "metadata": {},
   "outputs": [
    {
     "data": {
      "text/plain": [
       "3628800"
      ]
     },
     "execution_count": 18,
     "metadata": {},
     "output_type": "execute_result"
    }
   ],
   "source": [
    "math.factorial(10)"
   ]
  },
  {
   "cell_type": "code",
   "execution_count": 19,
   "id": "b0b9af90",
   "metadata": {},
   "outputs": [
    {
     "data": {
      "text/plain": [
       "1"
      ]
     },
     "execution_count": 19,
     "metadata": {},
     "output_type": "execute_result"
    }
   ],
   "source": [
    "math.factorial(0)"
   ]
  },
  {
   "cell_type": "code",
   "execution_count": 20,
   "id": "924b0305",
   "metadata": {},
   "outputs": [
    {
     "ename": "ValueError",
     "evalue": "factorial() not defined for negative values",
     "output_type": "error",
     "traceback": [
      "\u001b[1;31m---------------------------------------------------------------------------\u001b[0m",
      "\u001b[1;31mValueError\u001b[0m                                Traceback (most recent call last)",
      "Cell \u001b[1;32mIn[20], line 1\u001b[0m\n\u001b[1;32m----> 1\u001b[0m \u001b[43mmath\u001b[49m\u001b[38;5;241;43m.\u001b[39;49m\u001b[43mfactorial\u001b[49m\u001b[43m(\u001b[49m\u001b[38;5;241;43m-\u001b[39;49m\u001b[38;5;241;43m10\u001b[39;49m\u001b[43m)\u001b[49m\n",
      "\u001b[1;31mValueError\u001b[0m: factorial() not defined for negative values"
     ]
    }
   ],
   "source": [
    "math.factorial(-10)"
   ]
  },
  {
   "cell_type": "code",
   "execution_count": 21,
   "id": "e6e9b34d",
   "metadata": {},
   "outputs": [],
   "source": [
    "import math # importanto TUDO dentro do pacote math\n",
    "\n",
    "# alternativa na importação da biblioteca: escolher o que importar\n",
    "\n",
    "from math import * # importanto TUDO do pacote math"
   ]
  },
  {
   "cell_type": "code",
   "execution_count": 22,
   "id": "77f1f3f9",
   "metadata": {},
   "outputs": [
    {
     "data": {
      "text/plain": [
       "3628800"
      ]
     },
     "execution_count": 22,
     "metadata": {},
     "output_type": "execute_result"
    }
   ],
   "source": [
    "from math import factorial\n",
    "\n",
    "factorial(10)"
   ]
  },
  {
   "cell_type": "code",
   "execution_count": 27,
   "id": "a8d361a3",
   "metadata": {},
   "outputs": [
    {
     "data": {
      "text/plain": [
       "4.0"
      ]
     },
     "execution_count": 27,
     "metadata": {},
     "output_type": "execute_result"
    }
   ],
   "source": [
    "from math import factorial, sqrt # múltiplos importes\n",
    "\n",
    "sqrt(16)"
   ]
  },
  {
   "cell_type": "code",
   "execution_count": 28,
   "id": "b7301cc7",
   "metadata": {},
   "outputs": [],
   "source": [
    "from math import factorial as fat"
   ]
  },
  {
   "cell_type": "code",
   "execution_count": 29,
   "id": "e7fe12b7",
   "metadata": {},
   "outputs": [
    {
     "data": {
      "text/plain": [
       "120"
      ]
     },
     "execution_count": 29,
     "metadata": {},
     "output_type": "execute_result"
    }
   ],
   "source": [
    "fat(5)"
   ]
  },
  {
   "cell_type": "markdown",
   "id": "b7c026a1",
   "metadata": {},
   "source": [
    "**Vamos \"criar\" nosso módulo e importar aqui a função que criamos**"
   ]
  },
  {
   "cell_type": "code",
   "execution_count": 30,
   "id": "7eea0a90",
   "metadata": {},
   "outputs": [],
   "source": [
    "import exemplo # nome do arquivo é exemplo.py e por isso importamos todas as funções"
   ]
  },
  {
   "cell_type": "code",
   "execution_count": 31,
   "id": "3ee4c36c",
   "metadata": {},
   "outputs": [
    {
     "name": "stdout",
     "output_type": "stream",
     "text": [
      "O fatorial de 5 é 120\n"
     ]
    }
   ],
   "source": [
    "exemplo.funcao_fatorial(5)"
   ]
  },
  {
   "cell_type": "code",
   "execution_count": 32,
   "id": "b7d1809d",
   "metadata": {},
   "outputs": [
    {
     "name": "stdout",
     "output_type": "stream",
     "text": [
      "O fatorial de 5 é 120\n"
     ]
    }
   ],
   "source": [
    "# Alternativa\n",
    "\n",
    "from exemplo import funcao_fatorial\n",
    "\n",
    "funcao_fatorial(5)"
   ]
  },
  {
   "cell_type": "markdown",
   "id": "e91902e3",
   "metadata": {},
   "source": [
    "# Extra"
   ]
  },
  {
   "cell_type": "code",
   "execution_count": 33,
   "id": "55d07022",
   "metadata": {},
   "outputs": [],
   "source": [
    "import random"
   ]
  },
  {
   "cell_type": "code",
   "execution_count": 34,
   "id": "2f78fe11",
   "metadata": {},
   "outputs": [
    {
     "data": {
      "text/plain": [
       "8"
      ]
     },
     "execution_count": 34,
     "metadata": {},
     "output_type": "execute_result"
    }
   ],
   "source": [
    "random.randint(0,10)"
   ]
  },
  {
   "cell_type": "code",
   "execution_count": 40,
   "id": "178ba973",
   "metadata": {},
   "outputs": [
    {
     "data": {
      "text/plain": [
       "64"
      ]
     },
     "execution_count": 40,
     "metadata": {},
     "output_type": "execute_result"
    }
   ],
   "source": [
    "random.randint(0,100)"
   ]
  },
  {
   "cell_type": "code",
   "execution_count": null,
   "id": "070b18bb",
   "metadata": {},
   "outputs": [],
   "source": []
  }
 ],
 "metadata": {
  "kernelspec": {
   "display_name": "Python 3 (ipykernel)",
   "language": "python",
   "name": "python3"
  },
  "language_info": {
   "codemirror_mode": {
    "name": "ipython",
    "version": 3
   },
   "file_extension": ".py",
   "mimetype": "text/x-python",
   "name": "python",
   "nbconvert_exporter": "python",
   "pygments_lexer": "ipython3",
   "version": "3.10.9"
  }
 },
 "nbformat": 4,
 "nbformat_minor": 5
}
