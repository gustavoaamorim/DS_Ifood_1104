{
 "cells": [
  {
   "cell_type": "markdown",
   "id": "b229ffae",
   "metadata": {},
   "source": [
    "# Continuação de strings e suas funções e métodos"
   ]
  },
  {
   "cell_type": "markdown",
   "id": "443f2404",
   "metadata": {},
   "source": [
    "Existem funções prontas que nos ajudam a trabalhar com strings\n",
    "\n",
    "- Maiúscula e minúscula (capitalização das letras)"
   ]
  },
  {
   "cell_type": "code",
   "execution_count": 2,
   "id": "6b201203",
   "metadata": {},
   "outputs": [
    {
     "name": "stdout",
     "output_type": "stream",
     "text": [
      "QuErO mOsTrAr UMA frase\n"
     ]
    }
   ],
   "source": [
    "frase = \"QuErO mOsTrAr UMA frase\"\n",
    "\n",
    "print(frase)"
   ]
  },
  {
   "cell_type": "code",
   "execution_count": 3,
   "id": "febba141",
   "metadata": {},
   "outputs": [
    {
     "name": "stdout",
     "output_type": "stream",
     "text": [
      "QUERO MOSTRAR UMA FRASE\n"
     ]
    }
   ],
   "source": [
    "# todas as letras maiúsculas\n",
    "\n",
    "maiuscula = frase.upper() # método que transforma a string em letra maiúcula\n",
    "\n",
    "print(maiuscula)"
   ]
  },
  {
   "cell_type": "code",
   "execution_count": 4,
   "id": "3949eb57",
   "metadata": {},
   "outputs": [
    {
     "data": {
      "text/plain": [
       "'quero mostrar uma frase'"
      ]
     },
     "execution_count": 4,
     "metadata": {},
     "output_type": "execute_result"
    }
   ],
   "source": [
    "# quero a frase toda com letras minúsculas\n",
    "\n",
    "minuscula = frase.lower()\n",
    "\n",
    "minuscula"
   ]
  },
  {
   "cell_type": "code",
   "execution_count": 5,
   "id": "d77a4681",
   "metadata": {},
   "outputs": [
    {
     "data": {
      "text/plain": [
       "'Quero mostrar uma frase'"
      ]
     },
     "execution_count": 5,
     "metadata": {},
     "output_type": "execute_result"
    }
   ],
   "source": [
    "# quero colocar apenas a primeira maiúscula e o resto da frase em minúscula\n",
    "\n",
    "frase.capitalize()"
   ]
  },
  {
   "cell_type": "code",
   "execution_count": 6,
   "id": "347ab5c3",
   "metadata": {},
   "outputs": [
    {
     "data": {
      "text/plain": [
       "'Quero Mostrar Uma Frase'"
      ]
     },
     "execution_count": 6,
     "metadata": {},
     "output_type": "execute_result"
    }
   ],
   "source": [
    "# quero maiúscula a primeira letra de cada palavra\n",
    "\n",
    "frase.title()"
   ]
  },
  {
   "cell_type": "code",
   "execution_count": 7,
   "id": "78e6e4d0",
   "metadata": {},
   "outputs": [
    {
     "name": "stdout",
     "output_type": "stream",
     "text": [
      "Digite \"sim\" se aceita os termos de uso: s\n",
      "Seja bem vindo!\n"
     ]
    }
   ],
   "source": [
    "# um exemplo onde fica fácil usar essas funções\n",
    "\n",
    "usuario = input('Digite \"sim\" se aceita os termos de uso: ')\n",
    "\n",
    "if (usuario.upper() == 'SIM') or (usuario.upper() == 'S') : #evitar ter que comparar SIM, sim, Sim, SIm, siM\n",
    "    print('Seja bem vindo!')\n",
    "else:\n",
    "    print('Que pena')"
   ]
  },
  {
   "cell_type": "markdown",
   "id": "0de4d642",
   "metadata": {},
   "source": [
    "## Quebrando uma string"
   ]
  },
  {
   "cell_type": "code",
   "execution_count": 8,
   "id": "c4a43168",
   "metadata": {},
   "outputs": [
    {
     "name": "stdout",
     "output_type": "stream",
     "text": [
      "['um', 'texto', 'qualquer', 'aqui,', 'por', 'exemplo']\n"
     ]
    }
   ],
   "source": [
    "texto = \"um texto qualquer aqui, por exemplo\"\n",
    "\n",
    "palavras = texto.split() #quebra o texto em palavras - separando as palavras por vírgula em uma LISTA\n",
    "print(palavras)"
   ]
  },
  {
   "cell_type": "code",
   "execution_count": 11,
   "id": "c80aec6f",
   "metadata": {},
   "outputs": [
    {
     "name": "stdout",
     "output_type": "stream",
     "text": [
      "u\n",
      "m\n",
      " \n",
      "t\n",
      "e\n",
      "x\n",
      "t\n",
      "o\n",
      " \n",
      "q\n",
      "u\n",
      "a\n",
      "l\n",
      "q\n",
      "u\n",
      "e\n",
      "r\n",
      " \n",
      "a\n",
      "q\n",
      "u\n",
      "i\n",
      ",\n",
      " \n",
      "p\n",
      "o\n",
      "r\n",
      " \n",
      "e\n",
      "x\n",
      "e\n",
      "m\n",
      "p\n",
      "l\n",
      "o\n"
     ]
    }
   ],
   "source": [
    "for item in texto:\n",
    "    print(item)"
   ]
  },
  {
   "cell_type": "code",
   "execution_count": 13,
   "id": "5d6e2e26",
   "metadata": {},
   "outputs": [
    {
     "name": "stdout",
     "output_type": "stream",
     "text": [
      "um\n",
      "texto\n",
      "qualquer\n",
      "aqui,\n",
      "por\n",
      "exemplo\n"
     ]
    }
   ],
   "source": [
    "for item in palavras:\n",
    "    print(item)"
   ]
  },
  {
   "cell_type": "code",
   "execution_count": 14,
   "id": "92284798",
   "metadata": {},
   "outputs": [
    {
     "data": {
      "text/plain": [
       "['um texto qualquer aqui', ' por exemplo']"
      ]
     },
     "execution_count": 14,
     "metadata": {},
     "output_type": "execute_result"
    }
   ],
   "source": [
    "# quero saparar por vírgula\n",
    "\n",
    "texto2 = texto.split(',')\n",
    "texto2"
   ]
  },
  {
   "cell_type": "code",
   "execution_count": 15,
   "id": "d6689165",
   "metadata": {},
   "outputs": [
    {
     "name": "stdout",
     "output_type": "stream",
     "text": [
      "um texto qualquer aqui\n",
      " por exemplo\n"
     ]
    }
   ],
   "source": [
    "for item in texto2:\n",
    "    print(item)"
   ]
  },
  {
   "cell_type": "code",
   "execution_count": 18,
   "id": "80b9cca0",
   "metadata": {},
   "outputs": [
    {
     "data": {
      "text/plain": [
       "['um', 'texto', 'qualquer', 'aqui']"
      ]
     },
     "execution_count": 18,
     "metadata": {},
     "output_type": "execute_result"
    }
   ],
   "source": [
    "# pegando o primeiro elemento da string texto2 e separar por espaço\n",
    "\n",
    "texto2[0].split()"
   ]
  },
  {
   "cell_type": "code",
   "execution_count": 20,
   "id": "f8f19515",
   "metadata": {},
   "outputs": [
    {
     "data": {
      "text/plain": [
       "'ada.tech'"
      ]
     },
     "execution_count": 20,
     "metadata": {},
     "output_type": "execute_result"
    }
   ],
   "source": [
    "# bonus\n",
    "\n",
    "email = 'renata.marchese@ada.tech'\n",
    "\n",
    "email.split('@')[1] # é o domínio do email"
   ]
  },
  {
   "cell_type": "markdown",
   "id": "2a172314",
   "metadata": {},
   "source": [
    "# VIAJANDO DENTRO DA AULA "
   ]
  },
  {
   "cell_type": "code",
   "execution_count": 21,
   "id": "deaacc13",
   "metadata": {},
   "outputs": [
    {
     "name": "stdout",
     "output_type": "stream",
     "text": [
      "Collecting br-nome-gen\n",
      "  Using cached br-nome-gen-1.3.0.tar.gz (7.0 kB)\n",
      "  Preparing metadata (setup.py): started\n",
      "  Preparing metadata (setup.py): finished with status 'done'\n",
      "Building wheels for collected packages: br-nome-gen\n",
      "  Building wheel for br-nome-gen (setup.py): started\n",
      "  Building wheel for br-nome-gen (setup.py): finished with status 'done'\n",
      "  Created wheel for br-nome-gen: filename=br_nome_gen-1.3.0-py3-none-any.whl size=7200 sha256=3cc2c24faf03105046d34fb0996d57011c23d691334099851456c339ff7229b8\n",
      "  Stored in directory: c:\\users\\rmm\\appdata\\local\\pip\\cache\\wheels\\48\\7f\\3e\\82164d5b0eba43eb449fb3bfda93765467ed9a5f7e200e2fb9\n",
      "Successfully built br-nome-gen\n",
      "Installing collected packages: br-nome-gen\n",
      "Successfully installed br-nome-gen-1.3.0\n"
     ]
    }
   ],
   "source": [
    "# vou gerar dados falsos a partir de uma biblioteca\n",
    "\n",
    "!pip install br-nome-gen # uso para instalar uma biblioteca"
   ]
  },
  {
   "cell_type": "code",
   "execution_count": 22,
   "id": "f739bf69",
   "metadata": {},
   "outputs": [],
   "source": [
    "from br_nome_gen import pessoa_random # importanto uma biblioteca para usar\n",
    "\n",
    "lst_nome = []\n",
    "lst_masc = []\n",
    "for i in range(0, 1000):\n",
    "    p = pessoa_random()\n",
    "    lst_nome.append(p.nome)\n",
    "    lst_masc.append(p.masc)"
   ]
  },
  {
   "cell_type": "code",
   "execution_count": 24,
   "id": "8fa5ba00",
   "metadata": {},
   "outputs": [
    {
     "name": "stdout",
     "output_type": "stream",
     "text": [
      "Collecting Faker\n",
      "  Downloading Faker-19.10.0-py3-none-any.whl (1.7 MB)\n",
      "     ---------------------------------------- 1.7/1.7 MB 1.4 MB/s eta 0:00:00\n",
      "Requirement already satisfied: python-dateutil>=2.4 in c:\\users\\rmm\\anaconda3\\envs\\turma922\\lib\\site-packages (from Faker) (2.8.2)\n",
      "Requirement already satisfied: six>=1.5 in c:\\users\\rmm\\anaconda3\\envs\\turma922\\lib\\site-packages (from python-dateutil>=2.4->Faker) (1.16.0)\n",
      "Installing collected packages: Faker\n",
      "Successfully installed Faker-19.10.0\n"
     ]
    }
   ],
   "source": [
    "!pip install Faker"
   ]
  },
  {
   "cell_type": "code",
   "execution_count": 25,
   "id": "3fb0c215",
   "metadata": {},
   "outputs": [],
   "source": [
    "from faker import Faker\n",
    "fake = Faker()\n",
    "\n",
    "lst_email = []\n",
    "for _ in range(1000):\n",
    "    lst_email.append(fake.ascii_free_email())"
   ]
  },
  {
   "cell_type": "code",
   "execution_count": 26,
   "id": "48c5a383",
   "metadata": {},
   "outputs": [],
   "source": [
    "import pandas as pd #dados tabulares\n",
    "\n",
    "df = pd.DataFrame.from_dict({'nome':lst_nome, 'sexo':lst_masc, 'email':lst_email})"
   ]
  },
  {
   "cell_type": "code",
   "execution_count": 27,
   "id": "c79a8a56",
   "metadata": {},
   "outputs": [
    {
     "data": {
      "text/html": [
       "<div>\n",
       "<style scoped>\n",
       "    .dataframe tbody tr th:only-of-type {\n",
       "        vertical-align: middle;\n",
       "    }\n",
       "\n",
       "    .dataframe tbody tr th {\n",
       "        vertical-align: top;\n",
       "    }\n",
       "\n",
       "    .dataframe thead th {\n",
       "        text-align: right;\n",
       "    }\n",
       "</style>\n",
       "<table border=\"1\" class=\"dataframe\">\n",
       "  <thead>\n",
       "    <tr style=\"text-align: right;\">\n",
       "      <th></th>\n",
       "      <th>nome</th>\n",
       "      <th>sexo</th>\n",
       "      <th>email</th>\n",
       "    </tr>\n",
       "  </thead>\n",
       "  <tbody>\n",
       "    <tr>\n",
       "      <th>0</th>\n",
       "      <td>Ediane de Santana Plitha Chiba</td>\n",
       "      <td>False</td>\n",
       "      <td>cjohnson@gmail.com</td>\n",
       "    </tr>\n",
       "    <tr>\n",
       "      <th>1</th>\n",
       "      <td>José Zute</td>\n",
       "      <td>True</td>\n",
       "      <td>michael37@hotmail.com</td>\n",
       "    </tr>\n",
       "    <tr>\n",
       "      <th>2</th>\n",
       "      <td>Albina Arlete Naeson Estrada da Luz</td>\n",
       "      <td>False</td>\n",
       "      <td>yball@gmail.com</td>\n",
       "    </tr>\n",
       "    <tr>\n",
       "      <th>3</th>\n",
       "      <td>Bruna Tábata Jimi</td>\n",
       "      <td>False</td>\n",
       "      <td>brownxavier@gmail.com</td>\n",
       "    </tr>\n",
       "    <tr>\n",
       "      <th>4</th>\n",
       "      <td>Sílvia Gigi de Freitas</td>\n",
       "      <td>False</td>\n",
       "      <td>patrickdavidson@yahoo.com</td>\n",
       "    </tr>\n",
       "    <tr>\n",
       "      <th>...</th>\n",
       "      <td>...</td>\n",
       "      <td>...</td>\n",
       "      <td>...</td>\n",
       "    </tr>\n",
       "    <tr>\n",
       "      <th>995</th>\n",
       "      <td>Tatiane Verônica Asym</td>\n",
       "      <td>False</td>\n",
       "      <td>piercewesley@yahoo.com</td>\n",
       "    </tr>\n",
       "    <tr>\n",
       "      <th>996</th>\n",
       "      <td>Quésia de Braga dos Santos</td>\n",
       "      <td>False</td>\n",
       "      <td>kathleenmcbride@gmail.com</td>\n",
       "    </tr>\n",
       "    <tr>\n",
       "      <th>997</th>\n",
       "      <td>Jeferson da Nóbrega</td>\n",
       "      <td>True</td>\n",
       "      <td>kevin74@yahoo.com</td>\n",
       "    </tr>\n",
       "    <tr>\n",
       "      <th>998</th>\n",
       "      <td>Graziele Cibele Aguasivic Eichaz Tristão</td>\n",
       "      <td>False</td>\n",
       "      <td>monicacopeland@gmail.com</td>\n",
       "    </tr>\n",
       "    <tr>\n",
       "      <th>999</th>\n",
       "      <td>Isabel dos Santos Souto de Pereira</td>\n",
       "      <td>False</td>\n",
       "      <td>zford@yahoo.com</td>\n",
       "    </tr>\n",
       "  </tbody>\n",
       "</table>\n",
       "<p>1000 rows × 3 columns</p>\n",
       "</div>"
      ],
      "text/plain": [
       "                                         nome   sexo  \\\n",
       "0              Ediane de Santana Plitha Chiba  False   \n",
       "1                                   José Zute   True   \n",
       "2         Albina Arlete Naeson Estrada da Luz  False   \n",
       "3                           Bruna Tábata Jimi  False   \n",
       "4                      Sílvia Gigi de Freitas  False   \n",
       "..                                        ...    ...   \n",
       "995                     Tatiane Verônica Asym  False   \n",
       "996                Quésia de Braga dos Santos  False   \n",
       "997                       Jeferson da Nóbrega   True   \n",
       "998  Graziele Cibele Aguasivic Eichaz Tristão  False   \n",
       "999        Isabel dos Santos Souto de Pereira  False   \n",
       "\n",
       "                         email  \n",
       "0           cjohnson@gmail.com  \n",
       "1        michael37@hotmail.com  \n",
       "2              yball@gmail.com  \n",
       "3        brownxavier@gmail.com  \n",
       "4    patrickdavidson@yahoo.com  \n",
       "..                         ...  \n",
       "995     piercewesley@yahoo.com  \n",
       "996  kathleenmcbride@gmail.com  \n",
       "997          kevin74@yahoo.com  \n",
       "998   monicacopeland@gmail.com  \n",
       "999            zford@yahoo.com  \n",
       "\n",
       "[1000 rows x 3 columns]"
      ]
     },
     "execution_count": 27,
     "metadata": {},
     "output_type": "execute_result"
    }
   ],
   "source": [
    "df"
   ]
  },
  {
   "cell_type": "code",
   "execution_count": 30,
   "id": "919299d7",
   "metadata": {},
   "outputs": [
    {
     "data": {
      "text/plain": [
       "0        gmail.com\n",
       "1      hotmail.com\n",
       "2        gmail.com\n",
       "3        gmail.com\n",
       "4        yahoo.com\n",
       "          ...     \n",
       "995      yahoo.com\n",
       "996      gmail.com\n",
       "997      yahoo.com\n",
       "998      gmail.com\n",
       "999      yahoo.com\n",
       "Name: 1, Length: 1000, dtype: object"
      ]
     },
     "execution_count": 30,
     "metadata": {},
     "output_type": "execute_result"
    }
   ],
   "source": [
    "df['email'].str.split('@', expand=True)[1] # seleciono a coluna email"
   ]
  },
  {
   "cell_type": "code",
   "execution_count": 31,
   "id": "63026fb0",
   "metadata": {},
   "outputs": [
    {
     "data": {
      "text/plain": [
       "hotmail.com    351\n",
       "yahoo.com      345\n",
       "gmail.com      304\n",
       "Name: 1, dtype: int64"
      ]
     },
     "execution_count": 31,
     "metadata": {},
     "output_type": "execute_result"
    }
   ],
   "source": [
    "df['email'].str.split('@', expand=True)[1].value_counts()"
   ]
  },
  {
   "cell_type": "code",
   "execution_count": 32,
   "id": "b63a21e4",
   "metadata": {},
   "outputs": [
    {
     "name": "stdout",
     "output_type": "stream",
     "text": [
      "Collecting wordcloud\n",
      "  Downloading wordcloud-1.9.2-cp310-cp310-win_amd64.whl (152 kB)\n",
      "     -------------------------------------- 152.1/152.1 kB 1.8 MB/s eta 0:00:00\n",
      "Requirement already satisfied: pillow in c:\\users\\rmm\\anaconda3\\envs\\turma922\\lib\\site-packages (from wordcloud) (9.3.0)\n",
      "Requirement already satisfied: numpy>=1.6.1 in c:\\users\\rmm\\anaconda3\\envs\\turma922\\lib\\site-packages (from wordcloud) (1.22.3)\n",
      "Requirement already satisfied: matplotlib in c:\\users\\rmm\\anaconda3\\envs\\turma922\\lib\\site-packages (from wordcloud) (3.5.3)\n",
      "Requirement already satisfied: packaging>=20.0 in c:\\users\\rmm\\anaconda3\\envs\\turma922\\lib\\site-packages (from matplotlib->wordcloud) (23.0)\n",
      "Requirement already satisfied: python-dateutil>=2.7 in c:\\users\\rmm\\anaconda3\\envs\\turma922\\lib\\site-packages (from matplotlib->wordcloud) (2.8.2)\n",
      "Requirement already satisfied: pyparsing>=2.2.1 in c:\\users\\rmm\\anaconda3\\envs\\turma922\\lib\\site-packages (from matplotlib->wordcloud) (3.0.9)\n",
      "Requirement already satisfied: kiwisolver>=1.0.1 in c:\\users\\rmm\\anaconda3\\envs\\turma922\\lib\\site-packages (from matplotlib->wordcloud) (1.4.4)\n",
      "Requirement already satisfied: cycler>=0.10 in c:\\users\\rmm\\anaconda3\\envs\\turma922\\lib\\site-packages (from matplotlib->wordcloud) (0.11.0)\n",
      "Requirement already satisfied: fonttools>=4.22.0 in c:\\users\\rmm\\anaconda3\\envs\\turma922\\lib\\site-packages (from matplotlib->wordcloud) (4.25.0)\n",
      "Requirement already satisfied: six>=1.5 in c:\\users\\rmm\\anaconda3\\envs\\turma922\\lib\\site-packages (from python-dateutil>=2.7->matplotlib->wordcloud) (1.16.0)\n",
      "Installing collected packages: wordcloud\n",
      "Successfully installed wordcloud-1.9.2\n"
     ]
    }
   ],
   "source": [
    "!pip install wordcloud"
   ]
  },
  {
   "cell_type": "code",
   "execution_count": 35,
   "id": "f8e28286",
   "metadata": {},
   "outputs": [
    {
     "data": {
      "image/png": "[encoded data removed]",
      "text/plain": [
       "<Figure size 600x600 with 1 Axes>"
      ]
     },
     "metadata": {},
     "output_type": "display_data"
    }
   ],
   "source": [
    "import matplotlib.pyplot as plt\n",
    "from wordcloud import WordCloud\n",
    "\n",
    "text = ' '.join(df['email'].str.split('@', expand=True)[1].tolist())\n",
    "wordcloud = WordCloud(max_font_size=60, background_color=\"white\", scale=3, random_state=1).generate(text)\n",
    "plt.figure(1, figsize=(6, 6))\n",
    "plt.imshow(wordcloud, interpolation=\"bilinear\")\n",
    "plt.axis(\"off\")\n",
    "plt.show()"
   ]
  },
  {
   "cell_type": "code",
   "execution_count": 38,
   "id": "e9eeb271",
   "metadata": {},
   "outputs": [
    {
     "data": {
      "text/plain": [
       "0        Ediane\n",
       "1          José\n",
       "2        Albina\n",
       "3         Bruna\n",
       "4        Sílvia\n",
       "         ...   \n",
       "995     Tatiane\n",
       "996      Quésia\n",
       "997    Jeferson\n",
       "998    Graziele\n",
       "999      Isabel\n",
       "Name: 0, Length: 1000, dtype: object"
      ]
     },
     "execution_count": 38,
     "metadata": {},
     "output_type": "execute_result"
    }
   ],
   "source": [
    "df['nome'].str.split(expand=True)[0]"
   ]
  },
  {
   "cell_type": "code",
   "execution_count": 39,
   "id": "f86a6754",
   "metadata": {},
   "outputs": [
    {
     "data": {
      "image/png": "[encoded data removed]",
      "text/plain": [
       "<Figure size 600x600 with 1 Axes>"
      ]
     },
     "metadata": {},
     "output_type": "display_data"
    }
   ],
   "source": [
    "text = ' '.join(df['nome'].str.split(expand=True)[0].tolist())\n",
    "wordcloud = WordCloud(max_font_size=60, background_color=\"white\", scale=3, random_state=1).generate(text)\n",
    "plt.figure(1, figsize=(6, 6))\n",
    "plt.imshow(wordcloud, interpolation=\"bilinear\")\n",
    "plt.axis(\"off\")\n",
    "plt.show()"
   ]
  },
  {
   "cell_type": "markdown",
   "id": "44a2b87a",
   "metadata": {},
   "source": [
    "# Voltando para a Terra, ops aula"
   ]
  },
  {
   "cell_type": "code",
   "execution_count": 44,
   "id": "a38f6d44",
   "metadata": {},
   "outputs": [
    {
     "name": "stdout",
     "output_type": "stream",
     "text": [
      "Frase:  QuErO mOsTrAr UMA frase\n",
      "frase.lower():  quero mostrar uma frase\n",
      "frase.lower().split():  ['quero', 'mostrar', 'uma', 'frase']\n",
      "frase.lower().split()[-1]:  frase\n"
     ]
    }
   ],
   "source": [
    "# Podemos usar vários métodos na mesma linha, na sequência\n",
    "\n",
    "frase.lower().split()[-1]\n",
    "\n",
    "print('Frase: ',frase)\n",
    "print('frase.lower(): ', frase.lower())\n",
    "print('frase.lower().split(): ', frase.lower().split())\n",
    "print('frase.lower().split()[-1]: ', frase.lower().split()[-1])\n"
   ]
  },
  {
   "cell_type": "code",
   "execution_count": 47,
   "id": "935e3e2c",
   "metadata": {},
   "outputs": [
    {
     "data": {
      "text/plain": [
       "['frase', 'mostrar', 'quero', 'uma']"
      ]
     },
     "execution_count": 47,
     "metadata": {},
     "output_type": "execute_result"
    }
   ],
   "source": [
    "sorted(frase.lower().split())"
   ]
  },
  {
   "cell_type": "code",
   "execution_count": 50,
   "id": "8f3c3de7",
   "metadata": {},
   "outputs": [
    {
     "data": {
      "text/plain": [
       "['16', '10', '2023']"
      ]
     },
     "execution_count": 50,
     "metadata": {},
     "output_type": "execute_result"
    }
   ],
   "source": [
    "# Separa em dia, mês e ano\n",
    "\n",
    "'16/10/2023'\n",
    "'16/10/2022'\n",
    "'17/10/2023'\n",
    "'15/10/2023'\n",
    "\n",
    "\"2023/10/16\"\n",
    "\"2022/10/16\"\n",
    "\"2023/10/17\"\n",
    "\"2023/10/15\"\n",
    "\n",
    "\"16-10-23\"\n",
    "\n",
    "data = \"16/10/2023\" \n",
    "\n",
    "lista_data = data.split('/')\n",
    "lista_data"
   ]
  },
  {
   "cell_type": "code",
   "execution_count": 53,
   "id": "c42061d7",
   "metadata": {},
   "outputs": [
    {
     "name": "stdout",
     "output_type": "stream",
     "text": [
      "Dia:  16\n",
      "Mês:  10\n",
      "Ano:  2023\n"
     ]
    }
   ],
   "source": [
    "dia = int(lista_data[0])\n",
    "mes = int(lista_data[1])\n",
    "ano = int(lista_data[2])\n",
    "\n",
    "print('Dia: ', dia)\n",
    "\n",
    "print('Mês: ', mes)\n",
    "\n",
    "print('Ano: ', ano)"
   ]
  },
  {
   "cell_type": "code",
   "execution_count": 58,
   "id": "92aaecfd",
   "metadata": {},
   "outputs": [
    {
     "data": {
      "text/plain": [
       "'16/10/2023'"
      ]
     },
     "execution_count": 58,
     "metadata": {},
     "output_type": "execute_result"
    }
   ],
   "source": [
    "# voltar para a data original (string)\n",
    "\n",
    "str(dia) + '/' + str(mes) + '/' + str(ano)"
   ]
  },
  {
   "cell_type": "code",
   "execution_count": 60,
   "id": "660bb73b",
   "metadata": {},
   "outputs": [
    {
     "data": {
      "text/plain": [
       "'16/Outubro/2023'"
      ]
     },
     "execution_count": 60,
     "metadata": {},
     "output_type": "execute_result"
    }
   ],
   "source": [
    "# substituir \"10\" por outubro\n",
    "\n",
    "data_nova = data.replace(\"10\",\"Outubro\")\n",
    "data_nova"
   ]
  },
  {
   "cell_type": "code",
   "execution_count": 61,
   "id": "f40cd075",
   "metadata": {},
   "outputs": [
    {
     "data": {
      "text/plain": [
       "'16.Outubro.2023'"
      ]
     },
     "execution_count": 61,
     "metadata": {},
     "output_type": "execute_result"
    }
   ],
   "source": [
    "data_nova.replace(\"/\",\".\") # não altera a variável"
   ]
  },
  {
   "cell_type": "code",
   "execution_count": 70,
   "id": "a181098f",
   "metadata": {},
   "outputs": [
    {
     "data": {
      "text/plain": [
       "'16/Outubro/23'"
      ]
     },
     "execution_count": 70,
     "metadata": {},
     "output_type": "execute_result"
    }
   ],
   "source": [
    "# '16/Outubro/23'\n",
    "\n",
    "data_nova.replace(\"20\",\"\") # \"apagando\" a string 20 "
   ]
  },
  {
   "cell_type": "markdown",
   "id": "151e8472",
   "metadata": {},
   "source": [
    "```python\n",
    "str.replace(old, new[, count])\n",
    "\n",
    "Return a copy of the string with all occurrences of substring old replaced by new. If the optional argument count is given, only the first count occurrences are replaced\n",
    "\n",
    "```"
   ]
  },
  {
   "cell_type": "code",
   "execution_count": 77,
   "id": "17d5cc46",
   "metadata": {},
   "outputs": [
    {
     "data": {
      "text/plain": [
       "'16/Outubro/023'"
      ]
     },
     "execution_count": 77,
     "metadata": {},
     "output_type": "execute_result"
    }
   ],
   "source": [
    "data_nova.replace(\"2\", \"\", 1) # substituir o valor 2 na primeira ocorrência"
   ]
  },
  {
   "cell_type": "code",
   "execution_count": 80,
   "id": "13be6ddc",
   "metadata": {},
   "outputs": [
    {
     "data": {
      "text/plain": [
       "'16/Outubro/023'"
      ]
     },
     "execution_count": 80,
     "metadata": {},
     "output_type": "execute_result"
    }
   ],
   "source": [
    "data_nova.replace(\"2\", \"\", 1) # substituir o valor 2 até a 2a ocorrência"
   ]
  },
  {
   "cell_type": "code",
   "execution_count": null,
   "id": "e31294da",
   "metadata": {},
   "outputs": [],
   "source": []
  },
  {
   "cell_type": "code",
   "execution_count": 83,
   "id": "fe37d167",
   "metadata": {},
   "outputs": [
    {
     "name": "stdout",
     "output_type": "stream",
     "text": [
      "QuErO mOsTrAr UMA frase\n",
      "['Q', 'u', 'E', 'r', 'O', ' ', 'm', 'O', 's', 'T', 'r', 'A', 'r', ' ', 'U', 'M', 'A', ' ', 'f', 'r', 'a', 's', 'e']\n"
     ]
    }
   ],
   "source": [
    "print(frase)\n",
    "\n",
    "\n",
    "# transformar uma string em lista\n",
    "\n",
    "print(list(frase))"
   ]
  },
  {
   "cell_type": "code",
   "execution_count": 84,
   "id": "ecfbbd31",
   "metadata": {},
   "outputs": [
    {
     "data": {
      "text/plain": [
       "\"['a', 'b', 'c']\""
      ]
     },
     "execution_count": 84,
     "metadata": {},
     "output_type": "execute_result"
    }
   ],
   "source": [
    "# transformar uma lista em string (juntando todas as letras)\n",
    "lista = ['a', 'b', 'c']\n",
    "\n",
    "str(lista) # não funciona"
   ]
  },
  {
   "cell_type": "code",
   "execution_count": 85,
   "id": "ba9b7198",
   "metadata": {},
   "outputs": [
    {
     "data": {
      "text/plain": [
       "'abc'"
      ]
     },
     "execution_count": 85,
     "metadata": {},
     "output_type": "execute_result"
    }
   ],
   "source": [
    "# transformar uma lista em string (juntando todas as letras)\n",
    "lista = ['a', 'b', 'c']\n",
    "\n",
    "''.join(lista) # unir os elementos da lista pelo caracter vazio ('') todas as letras, ou melhor, todos os elementos"
   ]
  },
  {
   "cell_type": "code",
   "execution_count": 86,
   "id": "19dbd679",
   "metadata": {},
   "outputs": [
    {
     "data": {
      "text/plain": [
       "'a-b-c'"
      ]
     },
     "execution_count": 86,
     "metadata": {},
     "output_type": "execute_result"
    }
   ],
   "source": [
    "'-'.join(lista)"
   ]
  },
  {
   "cell_type": "code",
   "execution_count": 87,
   "id": "f40f9b8b",
   "metadata": {},
   "outputs": [
    {
     "data": {
      "text/plain": [
       "['16', '10', '2023']"
      ]
     },
     "execution_count": 87,
     "metadata": {},
     "output_type": "execute_result"
    }
   ],
   "source": [
    "lista_data"
   ]
  },
  {
   "cell_type": "code",
   "execution_count": 88,
   "id": "aa5ac661",
   "metadata": {},
   "outputs": [
    {
     "data": {
      "text/plain": [
       "'16/10/2023'"
      ]
     },
     "execution_count": 88,
     "metadata": {},
     "output_type": "execute_result"
    }
   ],
   "source": [
    "\"/\".join(lista_data)"
   ]
  },
  {
   "cell_type": "code",
   "execution_count": 89,
   "id": "b70c12dd",
   "metadata": {},
   "outputs": [
    {
     "data": {
      "text/plain": [
       "'1texto2'"
      ]
     },
     "execution_count": 89,
     "metadata": {},
     "output_type": "execute_result"
    }
   ],
   "source": [
    "'texto'.join(['1','2']) # o join é método de string"
   ]
  },
  {
   "cell_type": "code",
   "execution_count": 90,
   "id": "ae4a5b67",
   "metadata": {},
   "outputs": [
    {
     "data": {
      "text/plain": [
       "'a123b123c'"
      ]
     },
     "execution_count": 90,
     "metadata": {},
     "output_type": "execute_result"
    }
   ],
   "source": [
    "lista = ['a', 'b', 'c'] # é uma lista\n",
    "separador = '123' # é uma string\n",
    "\n",
    "separador.join(lista) # contrário de split ---> transforma lista em uma string"
   ]
  },
  {
   "cell_type": "markdown",
   "id": "442cc2c2",
   "metadata": {},
   "source": [
    "O join não funciona apenas com lista mas sim com qualquer objeto iterável\n",
    "\n",
    "```python\n",
    "\n",
    "str.join(iterable)\n",
    "\n",
    "Return a string which is the concatenation of the strings in iterable. A TypeError will be raised if there are any non-string values in iterable, including bytes objects. The separator between elements is the string providing this method.\n",
    "```"
   ]
  },
  {
   "cell_type": "code",
   "execution_count": 91,
   "id": "4df2b20c",
   "metadata": {},
   "outputs": [
    {
     "data": {
      "text/plain": [
       "'16/10/2023'"
      ]
     },
     "execution_count": 91,
     "metadata": {},
     "output_type": "execute_result"
    }
   ],
   "source": [
    "# revendo\n",
    "\n",
    "f'{dia}/{mes}/{ano}'"
   ]
  },
  {
   "cell_type": "code",
   "execution_count": 92,
   "id": "f692b5fd",
   "metadata": {},
   "outputs": [],
   "source": [
    "dia = 1"
   ]
  },
  {
   "cell_type": "code",
   "execution_count": 94,
   "id": "698da6e0",
   "metadata": {},
   "outputs": [
    {
     "data": {
      "text/plain": [
       "'01'"
      ]
     },
     "execution_count": 94,
     "metadata": {},
     "output_type": "execute_result"
    }
   ],
   "source": [
    "# dia: zfill ---> string\n",
    "\n",
    "str(dia).zfill(2)"
   ]
  },
  {
   "cell_type": "code",
   "execution_count": 96,
   "id": "c37d4d1f",
   "metadata": {},
   "outputs": [
    {
     "data": {
      "text/plain": [
       "'00016'"
      ]
     },
     "execution_count": 96,
     "metadata": {},
     "output_type": "execute_result"
    }
   ],
   "source": [
    "str(16).zfill(5)"
   ]
  },
  {
   "cell_type": "code",
   "execution_count": 101,
   "id": "e35359a1",
   "metadata": {},
   "outputs": [
    {
     "name": "stdout",
     "output_type": "stream",
     "text": [
      "01/10/2023\n"
     ]
    }
   ],
   "source": [
    "# outra forma de resolver\n",
    "data = '{:02d}/{:02d}/{:04d}'.format(dia, mes, ano)\n",
    "print(data)\n",
    "\n",
    "# : passaremos opçoes\n",
    "# d nº inteiro em base decimal (0 a 9)\n",
    "# 2 e 4 casas\n",
    "# 0 se faltar dígito, completa com zero"
   ]
  },
  {
   "cell_type": "markdown",
   "id": "0dfde954",
   "metadata": {},
   "source": [
    "O format possui tantas opções diferentes que existe um site inteiro dedicado a explicar e dar exemplos: https://pyformat.info/"
   ]
  },
  {
   "cell_type": "code",
   "execution_count": 102,
   "id": "ed6d366d",
   "metadata": {},
   "outputs": [
    {
     "data": {
      "text/plain": [
       "datetime.datetime(2023, 10, 16, 21, 56, 36, 603421)"
      ]
     },
     "execution_count": 102,
     "metadata": {},
     "output_type": "execute_result"
    }
   ],
   "source": [
    "import datetime\n",
    "\n",
    "datetime.datetime.now()"
   ]
  },
  {
   "cell_type": "code",
   "execution_count": null,
   "id": "62eae9f1",
   "metadata": {},
   "outputs": [],
   "source": []
  }
 ],
 "metadata": {
  "kernelspec": {
   "display_name": "Python 3 (ipykernel)",
   "language": "python",
   "name": "python3"
  },
  "language_info": {
   "codemirror_mode": {
    "name": "ipython",
    "version": 3
   },
   "file_extension": ".py",
   "mimetype": "text/x-python",
   "name": "python",
   "nbconvert_exporter": "python",
   "pygments_lexer": "ipython3",
   "version": "3.10.9"
  }
 },
 "nbformat": 4,
 "nbformat_minor": 5
}
