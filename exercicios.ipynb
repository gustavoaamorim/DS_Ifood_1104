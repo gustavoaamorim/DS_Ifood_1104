{
 "cells": [
  {
   "cell_type": "markdown",
   "metadata": {},
   "source": [
    "3. Você está trabalhando na construção de um sistema para cadastro de adoção de animais, e pretende criar fichas para cada um desses animais, de acordo com as informações recebidas de pessoas que os resgataram. Crie uma função que gere um cadastro para o animal. O cadastro deve obrigatoriamente conter o nome e o tipo de animal (cachorro, gato, etc), mas outras características também podem ser aceitas, como Idade, se já é vermifugado, etc. Essas informações tratadas serão enviadas para a função generate_card, que aceita todos os parâmetros escolhidos para a composição do cadastro."
   ]
  }
 ],
 "metadata": {
  "kernelspec": {
   "display_name": "Python 3",
   "language": "python",
   "name": "python3"
  },
  "language_info": {
   "codemirror_mode": {
    "name": "ipython",
    "version": 3
   },
   "file_extension": ".py",
   "mimetype": "text/x-python",
   "name": "python",
   "nbconvert_exporter": "python",
   "pygments_lexer": "ipython3",
   "version": "3.11.4"
  }
 },
 "nbformat": 4,
 "nbformat_minor": 2
}
